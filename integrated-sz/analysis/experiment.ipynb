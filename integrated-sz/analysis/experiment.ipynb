{
 "cells": [
  {
   "cell_type": "code",
   "execution_count": 1,
   "metadata": {
    "collapsed": false,
    "scrolled": true
   },
   "outputs": [
    {
     "name": "stderr",
     "output_type": "stream",
     "text": [
      "/Users/eggeek/anaconda2/envs/py3/lib/python3.5/importlib/_bootstrap.py:222: RuntimeWarning: numpy.dtype size changed, may indicate binary incompatibility. Expected 96, got 88\n",
      "  return f(*args, **kwds)\n"
     ]
    }
   ],
   "source": [
    "import pandas as pd\n",
    "import os\n",
    "%matplotlib inline"
   ]
  },
  {
   "cell_type": "code",
   "execution_count": 17,
   "metadata": {
    "collapsed": false,
    "scrolled": true
   },
   "outputs": [],
   "source": [
    "df_size = pd.read_csv(open('size.txt'))"
   ]
  },
  {
   "cell_type": "code",
   "execution_count": 89,
   "metadata": {
    "collapsed": false,
    "scrolled": true
   },
   "outputs": [
    {
     "name": "stderr",
     "output_type": "stream",
     "text": [
      "/Users/eggeek/anaconda2/envs/py3/lib/python3.5/site-packages/pandas/core/frame.py:3781: SettingWithCopyWarning: \n",
      "A value is trying to be set on a copy of a slice from a DataFrame\n",
      "\n",
      "See the caveats in the documentation: http://pandas.pydata.org/pandas-docs/stable/indexing.html#indexing-view-versus-copy\n",
      "  return super(DataFrame, self).rename(**kwargs)\n",
      "/Users/eggeek/anaconda2/envs/py3/lib/python3.5/site-packages/pandas/core/frame.py:3697: SettingWithCopyWarning: \n",
      "A value is trying to be set on a copy of a slice from a DataFrame\n",
      "\n",
      "See the caveats in the documentation: http://pandas.pydata.org/pandas-docs/stable/indexing.html#indexing-view-versus-copy\n",
      "  errors=errors)\n"
     ]
    }
   ],
   "source": [
    "df0 = df_size[df_size.hLevel == 0]\n",
    "df1 = df_size[df_size.hLevel == 1]\n",
    "\n",
    "df0.rename(columns={'bytes': 'bytes-0'}, inplace=True)\n",
    "df0.drop(columns=['hLevel'], inplace=True)\n",
    "\n",
    "df1.rename(columns={'bytes': 'bytes-1'}, inplace=True)\n",
    "df1.drop(columns=['hLevel'], inplace=True)"
   ]
  },
  {
   "cell_type": "code",
   "execution_count": 90,
   "metadata": {
    "collapsed": false,
    "scrolled": true
   },
   "outputs": [],
   "source": [
    "df = pd.merge(df0, df1, on='map')"
   ]
  },
  {
   "cell_type": "code",
   "execution_count": 92,
   "metadata": {
    "collapsed": false,
    "scrolled": true
   },
   "outputs": [],
   "source": [
    "df['ratio'] = df['bytes-0'] / df['bytes-1']"
   ]
  },
  {
   "cell_type": "code",
   "execution_count": 93,
   "metadata": {
    "collapsed": false,
    "scrolled": true
   },
   "outputs": [
    {
     "data": {
      "text/html": [
       "<div>\n",
       "<style scoped>\n",
       "    .dataframe tbody tr th:only-of-type {\n",
       "        vertical-align: middle;\n",
       "    }\n",
       "\n",
       "    .dataframe tbody tr th {\n",
       "        vertical-align: top;\n",
       "    }\n",
       "\n",
       "    .dataframe thead th {\n",
       "        text-align: right;\n",
       "    }\n",
       "</style>\n",
       "<table border=\"1\" class=\"dataframe\">\n",
       "  <thead>\n",
       "    <tr style=\"text-align: right;\">\n",
       "      <th></th>\n",
       "      <th>map</th>\n",
       "      <th>bytes-0</th>\n",
       "      <th>bytes-1</th>\n",
       "      <th>ratio</th>\n",
       "    </tr>\n",
       "  </thead>\n",
       "  <tbody>\n",
       "    <tr>\n",
       "      <th>0</th>\n",
       "      <td>den504d</td>\n",
       "      <td>4360940</td>\n",
       "      <td>906196</td>\n",
       "      <td>4.812358</td>\n",
       "    </tr>\n",
       "    <tr>\n",
       "      <th>1</th>\n",
       "      <td>lak108d</td>\n",
       "      <td>34700</td>\n",
       "      <td>7548</td>\n",
       "      <td>4.597244</td>\n",
       "    </tr>\n",
       "    <tr>\n",
       "      <th>2</th>\n",
       "      <td>den200d</td>\n",
       "      <td>5188024</td>\n",
       "      <td>1053524</td>\n",
       "      <td>4.924448</td>\n",
       "    </tr>\n",
       "    <tr>\n",
       "      <th>3</th>\n",
       "      <td>lak105d</td>\n",
       "      <td>43032</td>\n",
       "      <td>19160</td>\n",
       "      <td>2.245929</td>\n",
       "    </tr>\n",
       "    <tr>\n",
       "      <th>4</th>\n",
       "      <td>orz107d</td>\n",
       "      <td>85164</td>\n",
       "      <td>16704</td>\n",
       "      <td>5.098420</td>\n",
       "    </tr>\n",
       "  </tbody>\n",
       "</table>\n",
       "</div>"
      ],
      "text/plain": [
       "       map  bytes-0  bytes-1     ratio\n",
       "0  den504d  4360940   906196  4.812358\n",
       "1  lak108d    34700     7548  4.597244\n",
       "2  den200d  5188024  1053524  4.924448\n",
       "3  lak105d    43032    19160  2.245929\n",
       "4  orz107d    85164    16704  5.098420"
      ]
     },
     "execution_count": 93,
     "metadata": {},
     "output_type": "execute_result"
    }
   ],
   "source": [
    "df.head()"
   ]
  },
  {
   "cell_type": "code",
   "execution_count": 106,
   "metadata": {
    "collapsed": false,
    "scrolled": true
   },
   "outputs": [
    {
     "data": {
      "text/html": [
       "<div>\n",
       "<style scoped>\n",
       "    .dataframe tbody tr th:only-of-type {\n",
       "        vertical-align: middle;\n",
       "    }\n",
       "\n",
       "    .dataframe tbody tr th {\n",
       "        vertical-align: top;\n",
       "    }\n",
       "\n",
       "    .dataframe thead th {\n",
       "        text-align: right;\n",
       "    }\n",
       "</style>\n",
       "<table border=\"1\" class=\"dataframe\">\n",
       "  <thead>\n",
       "    <tr style=\"text-align: right;\">\n",
       "      <th></th>\n",
       "      <th>count</th>\n",
       "      <th>mean</th>\n",
       "      <th>std</th>\n",
       "      <th>min</th>\n",
       "      <th>25%</th>\n",
       "      <th>50%</th>\n",
       "      <th>75%</th>\n",
       "      <th>max</th>\n",
       "    </tr>\n",
       "  </thead>\n",
       "  <tbody>\n",
       "    <tr>\n",
       "      <th>ratio</th>\n",
       "      <td>156.0</td>\n",
       "      <td>4.848261</td>\n",
       "      <td>2.786469</td>\n",
       "      <td>2.191994</td>\n",
       "      <td>3.476017</td>\n",
       "      <td>4.15138</td>\n",
       "      <td>5.269512</td>\n",
       "      <td>24.995184</td>\n",
       "    </tr>\n",
       "  </tbody>\n",
       "</table>\n",
       "</div>"
      ],
      "text/plain": [
       "       count      mean       std       min       25%      50%       75%  \\\n",
       "ratio  156.0  4.848261  2.786469  2.191994  3.476017  4.15138  5.269512   \n",
       "\n",
       "             max  \n",
       "ratio  24.995184  "
      ]
     },
     "execution_count": 106,
     "metadata": {},
     "output_type": "execute_result"
    }
   ],
   "source": [
    "pd.DataFrame(df.ratio.describe()).T"
   ]
  },
  {
   "cell_type": "code",
   "execution_count": 102,
   "metadata": {
    "collapsed": false,
    "scrolled": true
   },
   "outputs": [
    {
     "name": "stdout",
     "output_type": "stream",
     "text": [
      "\\begin{tabular}{lrrrrrrrr}\n",
      "\\toprule\n",
      "{} &  count &      mean &       std &       min &       25\\% &      50\\% &       75\\% &        max \\\\\n",
      "\\midrule\n",
      "ratio &  156.0 &  4.848261 &  2.786469 &  2.191994 &  3.476017 &  4.15138 &  5.269512 &  24.995184 \\\\\n",
      "\\bottomrule\n",
      "\\end{tabular}\n",
      "\n"
     ]
    }
   ],
   "source": [
    "print ((pd.DataFrame(df.ratio.describe()).T).to_latex())"
   ]
  },
  {
   "cell_type": "code",
   "execution_count": 20,
   "metadata": {
    "collapsed": false,
    "scrolled": true
   },
   "outputs": [],
   "source": [
    "df_size = pd.read_csv(open('size_part.txt'))"
   ]
  },
  {
   "cell_type": "code",
   "execution_count": 21,
   "metadata": {
    "collapsed": false,
    "scrolled": true
   },
   "outputs": [
    {
     "name": "stderr",
     "output_type": "stream",
     "text": [
      "/Users/eggeek/anaconda2/envs/py3/lib/python3.5/site-packages/pandas/core/frame.py:3781: SettingWithCopyWarning: \n",
      "A value is trying to be set on a copy of a slice from a DataFrame\n",
      "\n",
      "See the caveats in the documentation: http://pandas.pydata.org/pandas-docs/stable/indexing.html#indexing-view-versus-copy\n",
      "  return super(DataFrame, self).rename(**kwargs)\n",
      "/Users/eggeek/anaconda2/envs/py3/lib/python3.5/site-packages/pandas/core/frame.py:3697: SettingWithCopyWarning: \n",
      "A value is trying to be set on a copy of a slice from a DataFrame\n",
      "\n",
      "See the caveats in the documentation: http://pandas.pydata.org/pandas-docs/stable/indexing.html#indexing-view-versus-copy\n",
      "  errors=errors)\n"
     ]
    }
   ],
   "source": [
    "df0 = df_size[df_size.hLevel == 0]\n",
    "df1 = df_size[df_size.hLevel == 1]\n",
    "df2 = df_size[df_size.hLevel == 2]\n",
    "df3 = df_size[df_size.hLevel == 3]\n",
    "\n",
    "df0.rename(columns={'bytes': 'bytes-0'}, inplace=True)\n",
    "df0.drop(columns=['hLevel'], inplace=True)\n",
    "\n",
    "df1.rename(columns={'bytes': 'bytes-1'}, inplace=True)\n",
    "df1.drop(columns=['hLevel'], inplace=True)\n",
    "\n",
    "df2.rename(columns={'bytes': 'bytes-2'}, inplace=True)\n",
    "df2.drop(columns=['hLevel'], inplace=True)\n",
    "\n",
    "df3.rename(columns={'bytes': 'bytes-3'}, inplace=True)\n",
    "df3.drop(columns=['hLevel'], inplace=True)\n",
    "\n",
    "df = pd.merge(df0, df1, on='map')\n",
    "df = pd.merge(df, df2, on='map')\n",
    "df = pd.merge(df, df3, on='map')"
   ]
  },
  {
   "cell_type": "code",
   "execution_count": 22,
   "metadata": {
    "collapsed": false,
    "scrolled": false
   },
   "outputs": [
    {
     "data": {
      "text/html": [
       "<div>\n",
       "<style scoped>\n",
       "    .dataframe tbody tr th:only-of-type {\n",
       "        vertical-align: middle;\n",
       "    }\n",
       "\n",
       "    .dataframe tbody tr th {\n",
       "        vertical-align: top;\n",
       "    }\n",
       "\n",
       "    .dataframe thead th {\n",
       "        text-align: right;\n",
       "    }\n",
       "</style>\n",
       "<table border=\"1\" class=\"dataframe\">\n",
       "  <thead>\n",
       "    <tr style=\"text-align: right;\">\n",
       "      <th></th>\n",
       "      <th>map</th>\n",
       "      <th>bytes-0</th>\n",
       "      <th>bytes-1</th>\n",
       "      <th>bytes-2</th>\n",
       "      <th>bytes-3</th>\n",
       "    </tr>\n",
       "  </thead>\n",
       "  <tbody>\n",
       "    <tr>\n",
       "      <th>0</th>\n",
       "      <td>brc000d</td>\n",
       "      <td>3672760</td>\n",
       "      <td>2981716</td>\n",
       "      <td>2608148</td>\n",
       "      <td>2619168</td>\n",
       "    </tr>\n",
       "    <tr>\n",
       "      <th>1</th>\n",
       "      <td>brc100d</td>\n",
       "      <td>2209524</td>\n",
       "      <td>1760972</td>\n",
       "      <td>1658920</td>\n",
       "      <td>1661520</td>\n",
       "    </tr>\n",
       "    <tr>\n",
       "      <th>2</th>\n",
       "      <td>den404d</td>\n",
       "      <td>11324</td>\n",
       "      <td>9664</td>\n",
       "      <td>9560</td>\n",
       "      <td>9556</td>\n",
       "    </tr>\n",
       "    <tr>\n",
       "      <th>3</th>\n",
       "      <td>brc202d</td>\n",
       "      <td>2244080</td>\n",
       "      <td>1771228</td>\n",
       "      <td>1684812</td>\n",
       "      <td>1689768</td>\n",
       "    </tr>\n",
       "    <tr>\n",
       "      <th>4</th>\n",
       "      <td>random512-10-0</td>\n",
       "      <td>132990992</td>\n",
       "      <td>128452976</td>\n",
       "      <td>101080520</td>\n",
       "      <td>100816220</td>\n",
       "    </tr>\n",
       "    <tr>\n",
       "      <th>5</th>\n",
       "      <td>den200n</td>\n",
       "      <td>2042600</td>\n",
       "      <td>1859972</td>\n",
       "      <td>1835536</td>\n",
       "      <td>1839856</td>\n",
       "    </tr>\n",
       "    <tr>\n",
       "      <th>6</th>\n",
       "      <td>den202d</td>\n",
       "      <td>22456</td>\n",
       "      <td>17688</td>\n",
       "      <td>16952</td>\n",
       "      <td>16972</td>\n",
       "    </tr>\n",
       "    <tr>\n",
       "      <th>7</th>\n",
       "      <td>arena2</td>\n",
       "      <td>2063868</td>\n",
       "      <td>1578452</td>\n",
       "      <td>1554932</td>\n",
       "      <td>1559980</td>\n",
       "    </tr>\n",
       "    <tr>\n",
       "      <th>8</th>\n",
       "      <td>arena</td>\n",
       "      <td>99208</td>\n",
       "      <td>70932</td>\n",
       "      <td>62776</td>\n",
       "      <td>62816</td>\n",
       "    </tr>\n",
       "  </tbody>\n",
       "</table>\n",
       "</div>"
      ],
      "text/plain": [
       "              map    bytes-0    bytes-1    bytes-2    bytes-3\n",
       "0         brc000d    3672760    2981716    2608148    2619168\n",
       "1         brc100d    2209524    1760972    1658920    1661520\n",
       "2         den404d      11324       9664       9560       9556\n",
       "3         brc202d    2244080    1771228    1684812    1689768\n",
       "4  random512-10-0  132990992  128452976  101080520  100816220\n",
       "5         den200n    2042600    1859972    1835536    1839856\n",
       "6         den202d      22456      17688      16952      16972\n",
       "7          arena2    2063868    1578452    1554932    1559980\n",
       "8           arena      99208      70932      62776      62816"
      ]
     },
     "execution_count": 22,
     "metadata": {},
     "output_type": "execute_result"
    }
   ],
   "source": [
    "df"
   ]
  },
  {
   "cell_type": "code",
   "execution_count": 35,
   "metadata": {
    "collapsed": false,
    "scrolled": true
   },
   "outputs": [],
   "source": [
    "prefix = '../outputs/'\n",
    "h = [prefix + i for i in os.listdir(prefix) if i.endswith('original.txt')]\n",
    "h0 = [prefix + i for i in os.listdir(prefix) if i.endswith('0.txt')]\n",
    "h1 = [prefix + i for i in os.listdir(prefix) if i.endswith('1.txt')]\n",
    "h2 = [prefix + i for i in os.listdir(prefix) if i.endswith('2.txt')]\n",
    "h3 = [prefix + i for i in os.listdir(prefix) if i.endswith('3.txt')]"
   ]
  },
  {
   "cell_type": "code",
   "execution_count": 36,
   "metadata": {
    "collapsed": false,
    "scrolled": true
   },
   "outputs": [
    {
     "name": "stderr",
     "output_type": "stream",
     "text": [
      "/Users/eggeek/anaconda2/envs/py3/lib/python3.5/site-packages/ipykernel/__main__.py:1: FutureWarning: from_csv is deprecated. Please use read_csv(...) instead. Note that some of the default arguments are different, so please refer to the documentation for from_csv when changing your function calls\n",
      "  if __name__ == '__main__':\n",
      "/Users/eggeek/anaconda2/envs/py3/lib/python3.5/site-packages/ipykernel/__main__.py:2: FutureWarning: from_csv is deprecated. Please use read_csv(...) instead. Note that some of the default arguments are different, so please refer to the documentation for from_csv when changing your function calls\n",
      "  from ipykernel import kernelapp as app\n",
      "/Users/eggeek/anaconda2/envs/py3/lib/python3.5/site-packages/ipykernel/__main__.py:3: FutureWarning: from_csv is deprecated. Please use read_csv(...) instead. Note that some of the default arguments are different, so please refer to the documentation for from_csv when changing your function calls\n",
      "  app.launch_new_instance()\n",
      "/Users/eggeek/anaconda2/envs/py3/lib/python3.5/site-packages/ipykernel/__main__.py:4: FutureWarning: from_csv is deprecated. Please use read_csv(...) instead. Note that some of the default arguments are different, so please refer to the documentation for from_csv when changing your function calls\n",
      "/Users/eggeek/anaconda2/envs/py3/lib/python3.5/site-packages/ipykernel/__main__.py:5: FutureWarning: from_csv is deprecated. Please use read_csv(...) instead. Note that some of the default arguments are different, so please refer to the documentation for from_csv when changing your function calls\n"
     ]
    }
   ],
   "source": [
    "df_ = pd.concat([pd.DataFrame.from_csv(i, index_col=None) for i in h])\n",
    "df0 = pd.concat([pd.DataFrame.from_csv(i, index_col=None) for i in h0])\n",
    "df1 = pd.concat([pd.DataFrame.from_csv(i, index_col=None) for i in h1])\n",
    "df2 = pd.concat([pd.DataFrame.from_csv(i, index_col=None) for i in h2])\n",
    "df3 = pd.concat([pd.DataFrame.from_csv(i, index_col=None) for i in h3])"
   ]
  },
  {
   "cell_type": "code",
   "execution_count": 40,
   "metadata": {
    "collapsed": false
   },
   "outputs": [
    {
     "data": {
      "text/html": [
       "<div>\n",
       "<style scoped>\n",
       "    .dataframe tbody tr th:only-of-type {\n",
       "        vertical-align: middle;\n",
       "    }\n",
       "\n",
       "    .dataframe tbody tr th {\n",
       "        vertical-align: top;\n",
       "    }\n",
       "\n",
       "    .dataframe thead th {\n",
       "        text-align: right;\n",
       "    }\n",
       "</style>\n",
       "<table border=\"1\" class=\"dataframe\">\n",
       "  <thead>\n",
       "    <tr style=\"text-align: right;\">\n",
       "      <th></th>\n",
       "      <th>map</th>\n",
       "      <th>scenid</th>\n",
       "      <th>total-src</th>\n",
       "      <th>20move-src</th>\n",
       "      <th>distance</th>\n",
       "      <th>path_size</th>\n",
       "      <th>hLevel</th>\n",
       "    </tr>\n",
       "  </thead>\n",
       "  <tbody>\n",
       "    <tr>\n",
       "      <th>0</th>\n",
       "      <td>den404d</td>\n",
       "      <td>0</td>\n",
       "      <td>94</td>\n",
       "      <td>85</td>\n",
       "      <td>0</td>\n",
       "      <td>0</td>\n",
       "      <td>0</td>\n",
       "    </tr>\n",
       "    <tr>\n",
       "      <th>0</th>\n",
       "      <td>den200n</td>\n",
       "      <td>0</td>\n",
       "      <td>45</td>\n",
       "      <td>45</td>\n",
       "      <td>0</td>\n",
       "      <td>0</td>\n",
       "      <td>0</td>\n",
       "    </tr>\n",
       "    <tr>\n",
       "      <th>0</th>\n",
       "      <td>arena</td>\n",
       "      <td>0</td>\n",
       "      <td>91</td>\n",
       "      <td>108</td>\n",
       "      <td>0</td>\n",
       "      <td>0</td>\n",
       "      <td>0</td>\n",
       "    </tr>\n",
       "    <tr>\n",
       "      <th>1</th>\n",
       "      <td>arena</td>\n",
       "      <td>1</td>\n",
       "      <td>111</td>\n",
       "      <td>118</td>\n",
       "      <td>0</td>\n",
       "      <td>0</td>\n",
       "      <td>0</td>\n",
       "    </tr>\n",
       "    <tr>\n",
       "      <th>2</th>\n",
       "      <td>arena</td>\n",
       "      <td>2</td>\n",
       "      <td>157</td>\n",
       "      <td>156</td>\n",
       "      <td>0</td>\n",
       "      <td>0</td>\n",
       "      <td>0</td>\n",
       "    </tr>\n",
       "  </tbody>\n",
       "</table>\n",
       "</div>"
      ],
      "text/plain": [
       "       map  scenid  total-src  20move-src  distance  path_size  hLevel\n",
       "0  den404d       0         94          85         0          0       0\n",
       "0  den200n       0         45          45         0          0       0\n",
       "0    arena       0         91         108         0          0       0\n",
       "1    arena       1        111         118         0          0       0\n",
       "2    arena       2        157         156         0          0       0"
      ]
     },
     "execution_count": 40,
     "metadata": {},
     "output_type": "execute_result"
    }
   ],
   "source": [
    "df_.head()"
   ]
  },
  {
   "cell_type": "code",
   "execution_count": 41,
   "metadata": {
    "collapsed": false,
    "scrolled": true
   },
   "outputs": [],
   "source": [
    "df_.drop(columns=['hLevel', 'distance', 'path_size'], inplace=True)\n",
    "df_.rename(columns={'total-src': 'total-src-original', '20move-src': '20move-src-original'}, inplace=True)\n",
    "\n",
    "df0.drop(columns=['hLevel', 'distance','path_size'], inplace=True)\n",
    "df0.rename(columns={'total-src': 'total-src-0', '20move-src': '20move-src-0'}, inplace=True)\n",
    "\n",
    "df1.drop(columns=['hLevel', 'distance','path_size'], inplace=True)\n",
    "df1.rename(columns={'total-src': 'total-src-1', '20move-src': '20move-src-1'}, inplace=True)\n",
    "\n",
    "df2.drop(columns=['hLevel', 'distance','path_size'], inplace=True)\n",
    "df2.rename(columns={'total-src': 'total-src-2', '20move-src': '20move-src-2'}, inplace=True)\n",
    "\n",
    "df3.drop(columns=['hLevel', 'distance','path_size'], inplace=True)\n",
    "df3.rename(columns={'total-src': 'total-src-3', '20move-src': '20move-src-3'}, inplace=True)"
   ]
  },
  {
   "cell_type": "code",
   "execution_count": 42,
   "metadata": {
    "collapsed": false,
    "scrolled": true
   },
   "outputs": [],
   "source": [
    "df = pd.merge(df_, df0, on=['map', 'scenid'])\n",
    "df = pd.merge(df, df1, on=['map', 'scenid'])\n",
    "df = pd.merge(df, df2, on=['map', 'scenid'])\n",
    "df = pd.merge(df, df3, on=['map', 'scenid'])"
   ]
  },
  {
   "cell_type": "code",
   "execution_count": 43,
   "metadata": {
    "collapsed": false,
    "scrolled": true
   },
   "outputs": [
    {
     "data": {
      "text/html": [
       "<div>\n",
       "<style scoped>\n",
       "    .dataframe tbody tr th:only-of-type {\n",
       "        vertical-align: middle;\n",
       "    }\n",
       "\n",
       "    .dataframe tbody tr th {\n",
       "        vertical-align: top;\n",
       "    }\n",
       "\n",
       "    .dataframe thead th {\n",
       "        text-align: right;\n",
       "    }\n",
       "</style>\n",
       "<table border=\"1\" class=\"dataframe\">\n",
       "  <thead>\n",
       "    <tr style=\"text-align: right;\">\n",
       "      <th></th>\n",
       "      <th>map</th>\n",
       "      <th>scenid</th>\n",
       "      <th>total-src-original</th>\n",
       "      <th>20move-src-original</th>\n",
       "      <th>total-src-0</th>\n",
       "      <th>20move-src-0</th>\n",
       "      <th>total-src-1</th>\n",
       "      <th>20move-src-1</th>\n",
       "      <th>total-src-2</th>\n",
       "      <th>20move-src-2</th>\n",
       "      <th>total-src-3</th>\n",
       "      <th>20move-src-3</th>\n",
       "    </tr>\n",
       "  </thead>\n",
       "  <tbody>\n",
       "    <tr>\n",
       "      <th>0</th>\n",
       "      <td>den404d</td>\n",
       "      <td>0</td>\n",
       "      <td>94</td>\n",
       "      <td>85</td>\n",
       "      <td>144</td>\n",
       "      <td>145</td>\n",
       "      <td>204</td>\n",
       "      <td>196</td>\n",
       "      <td>385</td>\n",
       "      <td>382</td>\n",
       "      <td>176</td>\n",
       "      <td>170</td>\n",
       "    </tr>\n",
       "    <tr>\n",
       "      <th>1</th>\n",
       "      <td>den200n</td>\n",
       "      <td>0</td>\n",
       "      <td>45</td>\n",
       "      <td>45</td>\n",
       "      <td>63</td>\n",
       "      <td>63</td>\n",
       "      <td>62</td>\n",
       "      <td>65</td>\n",
       "      <td>64</td>\n",
       "      <td>63</td>\n",
       "      <td>59</td>\n",
       "      <td>58</td>\n",
       "    </tr>\n",
       "    <tr>\n",
       "      <th>2</th>\n",
       "      <td>arena</td>\n",
       "      <td>0</td>\n",
       "      <td>91</td>\n",
       "      <td>108</td>\n",
       "      <td>129</td>\n",
       "      <td>142</td>\n",
       "      <td>151</td>\n",
       "      <td>149</td>\n",
       "      <td>220</td>\n",
       "      <td>214</td>\n",
       "      <td>178</td>\n",
       "      <td>181</td>\n",
       "    </tr>\n",
       "    <tr>\n",
       "      <th>3</th>\n",
       "      <td>arena</td>\n",
       "      <td>1</td>\n",
       "      <td>111</td>\n",
       "      <td>118</td>\n",
       "      <td>155</td>\n",
       "      <td>151</td>\n",
       "      <td>211</td>\n",
       "      <td>176</td>\n",
       "      <td>341</td>\n",
       "      <td>347</td>\n",
       "      <td>244</td>\n",
       "      <td>210</td>\n",
       "    </tr>\n",
       "    <tr>\n",
       "      <th>4</th>\n",
       "      <td>arena</td>\n",
       "      <td>2</td>\n",
       "      <td>157</td>\n",
       "      <td>156</td>\n",
       "      <td>177</td>\n",
       "      <td>174</td>\n",
       "      <td>197</td>\n",
       "      <td>193</td>\n",
       "      <td>278</td>\n",
       "      <td>273</td>\n",
       "      <td>255</td>\n",
       "      <td>232</td>\n",
       "    </tr>\n",
       "  </tbody>\n",
       "</table>\n",
       "</div>"
      ],
      "text/plain": [
       "       map  scenid  total-src-original  20move-src-original  total-src-0  \\\n",
       "0  den404d       0                  94                   85          144   \n",
       "1  den200n       0                  45                   45           63   \n",
       "2    arena       0                  91                  108          129   \n",
       "3    arena       1                 111                  118          155   \n",
       "4    arena       2                 157                  156          177   \n",
       "\n",
       "   20move-src-0  total-src-1  20move-src-1  total-src-2  20move-src-2  \\\n",
       "0           145          204           196          385           382   \n",
       "1            63           62            65           64            63   \n",
       "2           142          151           149          220           214   \n",
       "3           151          211           176          341           347   \n",
       "4           174          197           193          278           273   \n",
       "\n",
       "   total-src-3  20move-src-3  \n",
       "0          176           170  \n",
       "1           59            58  \n",
       "2          178           181  \n",
       "3          244           210  \n",
       "4          255           232  "
      ]
     },
     "execution_count": 43,
     "metadata": {},
     "output_type": "execute_result"
    }
   ],
   "source": [
    "df.head()"
   ]
  },
  {
   "cell_type": "code",
   "execution_count": 44,
   "metadata": {
    "collapsed": true
   },
   "outputs": [],
   "source": [
    "df['ratio-total-ori1'] = df['total-src-original'] / df['total-src-1']\n",
    "df['ratio-20-ori1'] = df['20move-src-original'] / df['20move-src-1']\n",
    "df['ratio-total-ori3'] = df['total-src-original'] / df['total-src-3']\n",
    "df['ratio-20-ori3'] = df['20move-src-original'] / df['20move-src-3']"
   ]
  },
  {
   "cell_type": "code",
   "execution_count": 47,
   "metadata": {
    "collapsed": false
   },
   "outputs": [
    {
     "data": {
      "text/html": [
       "<div>\n",
       "<style scoped>\n",
       "    .dataframe tbody tr th:only-of-type {\n",
       "        vertical-align: middle;\n",
       "    }\n",
       "\n",
       "    .dataframe tbody tr th {\n",
       "        vertical-align: top;\n",
       "    }\n",
       "\n",
       "    .dataframe thead th {\n",
       "        text-align: right;\n",
       "    }\n",
       "</style>\n",
       "<table border=\"1\" class=\"dataframe\">\n",
       "  <thead>\n",
       "    <tr style=\"text-align: right;\">\n",
       "      <th></th>\n",
       "      <th>count</th>\n",
       "      <th>mean</th>\n",
       "      <th>std</th>\n",
       "      <th>min</th>\n",
       "      <th>25%</th>\n",
       "      <th>50%</th>\n",
       "      <th>75%</th>\n",
       "      <th>max</th>\n",
       "    </tr>\n",
       "  </thead>\n",
       "  <tbody>\n",
       "    <tr>\n",
       "      <th>ratio-total-ori1</th>\n",
       "      <td>7751.0</td>\n",
       "      <td>1.184238</td>\n",
       "      <td>0.218091</td>\n",
       "      <td>0.236364</td>\n",
       "      <td>1.041741</td>\n",
       "      <td>1.157674</td>\n",
       "      <td>1.297421</td>\n",
       "      <td>3.150628</td>\n",
       "    </tr>\n",
       "  </tbody>\n",
       "</table>\n",
       "</div>"
      ],
      "text/plain": [
       "                   count      mean       std       min       25%       50%  \\\n",
       "ratio-total-ori1  7751.0  1.184238  0.218091  0.236364  1.041741  1.157674   \n",
       "\n",
       "                       75%       max  \n",
       "ratio-total-ori1  1.297421  3.150628  "
      ]
     },
     "execution_count": 47,
     "metadata": {},
     "output_type": "execute_result"
    }
   ],
   "source": [
    "pd.DataFrame(df['ratio-total-ori1']).describe().T"
   ]
  },
  {
   "cell_type": "code",
   "execution_count": 48,
   "metadata": {
    "collapsed": false
   },
   "outputs": [
    {
     "data": {
      "text/html": [
       "<div>\n",
       "<style scoped>\n",
       "    .dataframe tbody tr th:only-of-type {\n",
       "        vertical-align: middle;\n",
       "    }\n",
       "\n",
       "    .dataframe tbody tr th {\n",
       "        vertical-align: top;\n",
       "    }\n",
       "\n",
       "    .dataframe thead th {\n",
       "        text-align: right;\n",
       "    }\n",
       "</style>\n",
       "<table border=\"1\" class=\"dataframe\">\n",
       "  <thead>\n",
       "    <tr style=\"text-align: right;\">\n",
       "      <th></th>\n",
       "      <th>count</th>\n",
       "      <th>mean</th>\n",
       "      <th>std</th>\n",
       "      <th>min</th>\n",
       "      <th>25%</th>\n",
       "      <th>50%</th>\n",
       "      <th>75%</th>\n",
       "      <th>max</th>\n",
       "    </tr>\n",
       "  </thead>\n",
       "  <tbody>\n",
       "    <tr>\n",
       "      <th>ratio-total-ori3</th>\n",
       "      <td>7751.0</td>\n",
       "      <td>1.180394</td>\n",
       "      <td>0.263858</td>\n",
       "      <td>0.374702</td>\n",
       "      <td>1.002893</td>\n",
       "      <td>1.163696</td>\n",
       "      <td>1.308512</td>\n",
       "      <td>3.637681</td>\n",
       "    </tr>\n",
       "  </tbody>\n",
       "</table>\n",
       "</div>"
      ],
      "text/plain": [
       "                   count      mean       std       min       25%       50%  \\\n",
       "ratio-total-ori3  7751.0  1.180394  0.263858  0.374702  1.002893  1.163696   \n",
       "\n",
       "                       75%       max  \n",
       "ratio-total-ori3  1.308512  3.637681  "
      ]
     },
     "execution_count": 48,
     "metadata": {},
     "output_type": "execute_result"
    }
   ],
   "source": [
    "pd.DataFrame(df['ratio-total-ori3']).describe().T"
   ]
  },
  {
   "cell_type": "code",
   "execution_count": 49,
   "metadata": {
    "collapsed": false
   },
   "outputs": [
    {
     "data": {
      "text/html": [
       "<div>\n",
       "<style scoped>\n",
       "    .dataframe tbody tr th:only-of-type {\n",
       "        vertical-align: middle;\n",
       "    }\n",
       "\n",
       "    .dataframe tbody tr th {\n",
       "        vertical-align: top;\n",
       "    }\n",
       "\n",
       "    .dataframe thead th {\n",
       "        text-align: right;\n",
       "    }\n",
       "</style>\n",
       "<table border=\"1\" class=\"dataframe\">\n",
       "  <thead>\n",
       "    <tr style=\"text-align: right;\">\n",
       "      <th></th>\n",
       "      <th>count</th>\n",
       "      <th>mean</th>\n",
       "      <th>std</th>\n",
       "      <th>min</th>\n",
       "      <th>25%</th>\n",
       "      <th>50%</th>\n",
       "      <th>75%</th>\n",
       "      <th>max</th>\n",
       "    </tr>\n",
       "  </thead>\n",
       "  <tbody>\n",
       "    <tr>\n",
       "      <th>ratio-20-ori1</th>\n",
       "      <td>7751.0</td>\n",
       "      <td>1.189638</td>\n",
       "      <td>0.489419</td>\n",
       "      <td>0.198722</td>\n",
       "      <td>0.877065</td>\n",
       "      <td>1.104135</td>\n",
       "      <td>1.389743</td>\n",
       "      <td>5.965675</td>\n",
       "    </tr>\n",
       "  </tbody>\n",
       "</table>\n",
       "</div>"
      ],
      "text/plain": [
       "                count      mean       std       min       25%       50%  \\\n",
       "ratio-20-ori1  7751.0  1.189638  0.489419  0.198722  0.877065  1.104135   \n",
       "\n",
       "                    75%       max  \n",
       "ratio-20-ori1  1.389743  5.965675  "
      ]
     },
     "execution_count": 49,
     "metadata": {},
     "output_type": "execute_result"
    }
   ],
   "source": [
    "pd.DataFrame(df['ratio-20-ori1']).describe().T"
   ]
  },
  {
   "cell_type": "code",
   "execution_count": 50,
   "metadata": {
    "collapsed": false
   },
   "outputs": [
    {
     "data": {
      "text/html": [
       "<div>\n",
       "<style scoped>\n",
       "    .dataframe tbody tr th:only-of-type {\n",
       "        vertical-align: middle;\n",
       "    }\n",
       "\n",
       "    .dataframe tbody tr th {\n",
       "        vertical-align: top;\n",
       "    }\n",
       "\n",
       "    .dataframe thead th {\n",
       "        text-align: right;\n",
       "    }\n",
       "</style>\n",
       "<table border=\"1\" class=\"dataframe\">\n",
       "  <thead>\n",
       "    <tr style=\"text-align: right;\">\n",
       "      <th></th>\n",
       "      <th>count</th>\n",
       "      <th>mean</th>\n",
       "      <th>std</th>\n",
       "      <th>min</th>\n",
       "      <th>25%</th>\n",
       "      <th>50%</th>\n",
       "      <th>75%</th>\n",
       "      <th>max</th>\n",
       "    </tr>\n",
       "  </thead>\n",
       "  <tbody>\n",
       "    <tr>\n",
       "      <th>ratio-20-ori3</th>\n",
       "      <td>7751.0</td>\n",
       "      <td>1.301264</td>\n",
       "      <td>0.607509</td>\n",
       "      <td>0.163265</td>\n",
       "      <td>0.891366</td>\n",
       "      <td>1.19211</td>\n",
       "      <td>1.557561</td>\n",
       "      <td>6.533835</td>\n",
       "    </tr>\n",
       "  </tbody>\n",
       "</table>\n",
       "</div>"
      ],
      "text/plain": [
       "                count      mean       std       min       25%      50%  \\\n",
       "ratio-20-ori3  7751.0  1.301264  0.607509  0.163265  0.891366  1.19211   \n",
       "\n",
       "                    75%       max  \n",
       "ratio-20-ori3  1.557561  6.533835  "
      ]
     },
     "execution_count": 50,
     "metadata": {},
     "output_type": "execute_result"
    }
   ],
   "source": [
    "pd.DataFrame(df['ratio-20-ori3']).describe().T"
   ]
  },
  {
   "cell_type": "code",
   "execution_count": 45,
   "metadata": {
    "collapsed": false,
    "scrolled": true
   },
   "outputs": [],
   "source": [
    "df['ratio-total-01'] = df['total-src-0'] / df['total-src-1']\n",
    "df['ratio-20-01'] = df['20move-src-0'] / df['20move-src-1']\n",
    "df['ratio-total-03'] = df['total-src-0'] / df['total-src-3']\n",
    "df['ratio-20-03'] = df['20move-src-0'] / df['20move-src-3']"
   ]
  },
  {
   "cell_type": "code",
   "execution_count": 31,
   "metadata": {
    "collapsed": false,
    "scrolled": true
   },
   "outputs": [
    {
     "data": {
      "text/html": [
       "<div>\n",
       "<style scoped>\n",
       "    .dataframe tbody tr th:only-of-type {\n",
       "        vertical-align: middle;\n",
       "    }\n",
       "\n",
       "    .dataframe tbody tr th {\n",
       "        vertical-align: top;\n",
       "    }\n",
       "\n",
       "    .dataframe thead th {\n",
       "        text-align: right;\n",
       "    }\n",
       "</style>\n",
       "<table border=\"1\" class=\"dataframe\">\n",
       "  <thead>\n",
       "    <tr style=\"text-align: right;\">\n",
       "      <th></th>\n",
       "      <th>count</th>\n",
       "      <th>mean</th>\n",
       "      <th>std</th>\n",
       "      <th>min</th>\n",
       "      <th>25%</th>\n",
       "      <th>50%</th>\n",
       "      <th>75%</th>\n",
       "      <th>max</th>\n",
       "    </tr>\n",
       "  </thead>\n",
       "  <tbody>\n",
       "    <tr>\n",
       "      <th>ratio-total-01</th>\n",
       "      <td>7751.0</td>\n",
       "      <td>0.976771</td>\n",
       "      <td>0.103692</td>\n",
       "      <td>0.497194</td>\n",
       "      <td>0.922467</td>\n",
       "      <td>0.991003</td>\n",
       "      <td>1.037275</td>\n",
       "      <td>1.815365</td>\n",
       "    </tr>\n",
       "  </tbody>\n",
       "</table>\n",
       "</div>"
      ],
      "text/plain": [
       "                 count      mean       std       min       25%       50%  \\\n",
       "ratio-total-01  7751.0  0.976771  0.103692  0.497194  0.922467  0.991003   \n",
       "\n",
       "                     75%       max  \n",
       "ratio-total-01  1.037275  1.815365  "
      ]
     },
     "execution_count": 31,
     "metadata": {},
     "output_type": "execute_result"
    }
   ],
   "source": [
    "pd.DataFrame(df['ratio-total-01']).describe().T"
   ]
  },
  {
   "cell_type": "code",
   "execution_count": 32,
   "metadata": {
    "collapsed": false,
    "scrolled": true
   },
   "outputs": [
    {
     "data": {
      "text/html": [
       "<div>\n",
       "<style scoped>\n",
       "    .dataframe tbody tr th:only-of-type {\n",
       "        vertical-align: middle;\n",
       "    }\n",
       "\n",
       "    .dataframe tbody tr th {\n",
       "        vertical-align: top;\n",
       "    }\n",
       "\n",
       "    .dataframe thead th {\n",
       "        text-align: right;\n",
       "    }\n",
       "</style>\n",
       "<table border=\"1\" class=\"dataframe\">\n",
       "  <thead>\n",
       "    <tr style=\"text-align: right;\">\n",
       "      <th></th>\n",
       "      <th>count</th>\n",
       "      <th>mean</th>\n",
       "      <th>std</th>\n",
       "      <th>min</th>\n",
       "      <th>25%</th>\n",
       "      <th>50%</th>\n",
       "      <th>75%</th>\n",
       "      <th>max</th>\n",
       "    </tr>\n",
       "  </thead>\n",
       "  <tbody>\n",
       "    <tr>\n",
       "      <th>ratio-total-03</th>\n",
       "      <td>7751.0</td>\n",
       "      <td>0.96872</td>\n",
       "      <td>0.120343</td>\n",
       "      <td>0.458556</td>\n",
       "      <td>0.892308</td>\n",
       "      <td>0.970874</td>\n",
       "      <td>1.054709</td>\n",
       "      <td>1.647634</td>\n",
       "    </tr>\n",
       "  </tbody>\n",
       "</table>\n",
       "</div>"
      ],
      "text/plain": [
       "                 count     mean       std       min       25%       50%  \\\n",
       "ratio-total-03  7751.0  0.96872  0.120343  0.458556  0.892308  0.970874   \n",
       "\n",
       "                     75%       max  \n",
       "ratio-total-03  1.054709  1.647634  "
      ]
     },
     "execution_count": 32,
     "metadata": {},
     "output_type": "execute_result"
    }
   ],
   "source": [
    "pd.DataFrame(df['ratio-total-03'].describe()).T"
   ]
  },
  {
   "cell_type": "code",
   "execution_count": 33,
   "metadata": {
    "collapsed": false,
    "scrolled": true
   },
   "outputs": [
    {
     "data": {
      "text/html": [
       "<div>\n",
       "<style scoped>\n",
       "    .dataframe tbody tr th:only-of-type {\n",
       "        vertical-align: middle;\n",
       "    }\n",
       "\n",
       "    .dataframe tbody tr th {\n",
       "        vertical-align: top;\n",
       "    }\n",
       "\n",
       "    .dataframe thead th {\n",
       "        text-align: right;\n",
       "    }\n",
       "</style>\n",
       "<table border=\"1\" class=\"dataframe\">\n",
       "  <thead>\n",
       "    <tr style=\"text-align: right;\">\n",
       "      <th></th>\n",
       "      <th>count</th>\n",
       "      <th>mean</th>\n",
       "      <th>std</th>\n",
       "      <th>min</th>\n",
       "      <th>25%</th>\n",
       "      <th>50%</th>\n",
       "      <th>75%</th>\n",
       "      <th>max</th>\n",
       "    </tr>\n",
       "  </thead>\n",
       "  <tbody>\n",
       "    <tr>\n",
       "      <th>ratio-20-01</th>\n",
       "      <td>7751.0</td>\n",
       "      <td>0.967003</td>\n",
       "      <td>0.156996</td>\n",
       "      <td>0.299831</td>\n",
       "      <td>0.886236</td>\n",
       "      <td>0.972789</td>\n",
       "      <td>1.045251</td>\n",
       "      <td>2.01046</td>\n",
       "    </tr>\n",
       "  </tbody>\n",
       "</table>\n",
       "</div>"
      ],
      "text/plain": [
       "              count      mean       std       min       25%       50%  \\\n",
       "ratio-20-01  7751.0  0.967003  0.156996  0.299831  0.886236  0.972789   \n",
       "\n",
       "                  75%      max  \n",
       "ratio-20-01  1.045251  2.01046  "
      ]
     },
     "execution_count": 33,
     "metadata": {},
     "output_type": "execute_result"
    }
   ],
   "source": [
    "pd.DataFrame(df['ratio-20-01'].describe()).T"
   ]
  },
  {
   "cell_type": "code",
   "execution_count": 34,
   "metadata": {
    "collapsed": false,
    "scrolled": true
   },
   "outputs": [
    {
     "data": {
      "text/html": [
       "<div>\n",
       "<style scoped>\n",
       "    .dataframe tbody tr th:only-of-type {\n",
       "        vertical-align: middle;\n",
       "    }\n",
       "\n",
       "    .dataframe tbody tr th {\n",
       "        vertical-align: top;\n",
       "    }\n",
       "\n",
       "    .dataframe thead th {\n",
       "        text-align: right;\n",
       "    }\n",
       "</style>\n",
       "<table border=\"1\" class=\"dataframe\">\n",
       "  <thead>\n",
       "    <tr style=\"text-align: right;\">\n",
       "      <th></th>\n",
       "      <th>count</th>\n",
       "      <th>mean</th>\n",
       "      <th>std</th>\n",
       "      <th>min</th>\n",
       "      <th>25%</th>\n",
       "      <th>50%</th>\n",
       "      <th>75%</th>\n",
       "      <th>max</th>\n",
       "    </tr>\n",
       "  </thead>\n",
       "  <tbody>\n",
       "    <tr>\n",
       "      <th>ratio-20-03</th>\n",
       "      <td>7751.0</td>\n",
       "      <td>1.037042</td>\n",
       "      <td>0.196116</td>\n",
       "      <td>0.407636</td>\n",
       "      <td>0.919453</td>\n",
       "      <td>1.03012</td>\n",
       "      <td>1.134545</td>\n",
       "      <td>2.366569</td>\n",
       "    </tr>\n",
       "  </tbody>\n",
       "</table>\n",
       "</div>"
      ],
      "text/plain": [
       "              count      mean       std       min       25%      50%  \\\n",
       "ratio-20-03  7751.0  1.037042  0.196116  0.407636  0.919453  1.03012   \n",
       "\n",
       "                  75%       max  \n",
       "ratio-20-03  1.134545  2.366569  "
      ]
     },
     "execution_count": 34,
     "metadata": {},
     "output_type": "execute_result"
    }
   ],
   "source": [
    "pd.DataFrame(df['ratio-20-03'].describe()).T"
   ]
  }
 ],
 "metadata": {
  "celltoolbar": "Raw Cell Format",
  "kernelspec": {
   "display_name": "Python 3",
   "language": "python",
   "name": "python3"
  },
  "language_info": {
   "codemirror_mode": {
    "name": "ipython",
    "version": 3
   },
   "file_extension": ".py",
   "mimetype": "text/x-python",
   "name": "python",
   "nbconvert_exporter": "python",
   "pygments_lexer": "ipython3",
   "version": "3.5.3"
  }
 },
 "nbformat": 4,
 "nbformat_minor": 2
}
