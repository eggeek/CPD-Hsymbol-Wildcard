{
 "cells": [
  {
   "cell_type": "code",
   "execution_count": 1,
   "metadata": {
    "collapsed": false
   },
   "outputs": [
    {
     "name": "stderr",
     "output_type": "stream",
     "text": [
      "/Users/eggeek/anaconda2/envs/py3/lib/python3.5/importlib/_bootstrap.py:222: RuntimeWarning: numpy.dtype size changed, may indicate binary incompatibility. Expected 96, got 88\n",
      "  return f(*args, **kwds)\n"
     ]
    }
   ],
   "source": [
    "import pandas as pd\n",
    "import os\n",
    "%matplotlib inline"
   ]
  },
  {
   "cell_type": "code",
   "execution_count": 17,
   "metadata": {
    "collapsed": false
   },
   "outputs": [],
   "source": [
    "df_size = pd.read_csv(open('size.txt'))"
   ]
  },
  {
   "cell_type": "code",
   "execution_count": 89,
   "metadata": {
    "collapsed": false
   },
   "outputs": [
    {
     "name": "stderr",
     "output_type": "stream",
     "text": [
      "/Users/eggeek/anaconda2/envs/py3/lib/python3.5/site-packages/pandas/core/frame.py:3781: SettingWithCopyWarning: \n",
      "A value is trying to be set on a copy of a slice from a DataFrame\n",
      "\n",
      "See the caveats in the documentation: http://pandas.pydata.org/pandas-docs/stable/indexing.html#indexing-view-versus-copy\n",
      "  return super(DataFrame, self).rename(**kwargs)\n",
      "/Users/eggeek/anaconda2/envs/py3/lib/python3.5/site-packages/pandas/core/frame.py:3697: SettingWithCopyWarning: \n",
      "A value is trying to be set on a copy of a slice from a DataFrame\n",
      "\n",
      "See the caveats in the documentation: http://pandas.pydata.org/pandas-docs/stable/indexing.html#indexing-view-versus-copy\n",
      "  errors=errors)\n"
     ]
    }
   ],
   "source": [
    "df0 = df_size[df_size.hLevel == 0]\n",
    "df1 = df_size[df_size.hLevel == 1]\n",
    "\n",
    "df0.rename(columns={'bytes': 'bytes-0'}, inplace=True)\n",
    "df0.drop(columns=['hLevel'], inplace=True)\n",
    "\n",
    "df1.rename(columns={'bytes': 'bytes-1'}, inplace=True)\n",
    "df1.drop(columns=['hLevel'], inplace=True)"
   ]
  },
  {
   "cell_type": "code",
   "execution_count": 90,
   "metadata": {
    "collapsed": false
   },
   "outputs": [],
   "source": [
    "df = pd.merge(df0, df1, on='map')"
   ]
  },
  {
   "cell_type": "code",
   "execution_count": 92,
   "metadata": {
    "collapsed": false
   },
   "outputs": [],
   "source": [
    "df['ratio'] = df['bytes-0'] / df['bytes-1']"
   ]
  },
  {
   "cell_type": "code",
   "execution_count": 93,
   "metadata": {
    "collapsed": false
   },
   "outputs": [
    {
     "data": {
      "text/html": [
       "<div>\n",
       "<style scoped>\n",
       "    .dataframe tbody tr th:only-of-type {\n",
       "        vertical-align: middle;\n",
       "    }\n",
       "\n",
       "    .dataframe tbody tr th {\n",
       "        vertical-align: top;\n",
       "    }\n",
       "\n",
       "    .dataframe thead th {\n",
       "        text-align: right;\n",
       "    }\n",
       "</style>\n",
       "<table border=\"1\" class=\"dataframe\">\n",
       "  <thead>\n",
       "    <tr style=\"text-align: right;\">\n",
       "      <th></th>\n",
       "      <th>map</th>\n",
       "      <th>bytes-0</th>\n",
       "      <th>bytes-1</th>\n",
       "      <th>ratio</th>\n",
       "    </tr>\n",
       "  </thead>\n",
       "  <tbody>\n",
       "    <tr>\n",
       "      <th>0</th>\n",
       "      <td>den504d</td>\n",
       "      <td>4360940</td>\n",
       "      <td>906196</td>\n",
       "      <td>4.812358</td>\n",
       "    </tr>\n",
       "    <tr>\n",
       "      <th>1</th>\n",
       "      <td>lak108d</td>\n",
       "      <td>34700</td>\n",
       "      <td>7548</td>\n",
       "      <td>4.597244</td>\n",
       "    </tr>\n",
       "    <tr>\n",
       "      <th>2</th>\n",
       "      <td>den200d</td>\n",
       "      <td>5188024</td>\n",
       "      <td>1053524</td>\n",
       "      <td>4.924448</td>\n",
       "    </tr>\n",
       "    <tr>\n",
       "      <th>3</th>\n",
       "      <td>lak105d</td>\n",
       "      <td>43032</td>\n",
       "      <td>19160</td>\n",
       "      <td>2.245929</td>\n",
       "    </tr>\n",
       "    <tr>\n",
       "      <th>4</th>\n",
       "      <td>orz107d</td>\n",
       "      <td>85164</td>\n",
       "      <td>16704</td>\n",
       "      <td>5.098420</td>\n",
       "    </tr>\n",
       "  </tbody>\n",
       "</table>\n",
       "</div>"
      ],
      "text/plain": [
       "       map  bytes-0  bytes-1     ratio\n",
       "0  den504d  4360940   906196  4.812358\n",
       "1  lak108d    34700     7548  4.597244\n",
       "2  den200d  5188024  1053524  4.924448\n",
       "3  lak105d    43032    19160  2.245929\n",
       "4  orz107d    85164    16704  5.098420"
      ]
     },
     "execution_count": 93,
     "metadata": {},
     "output_type": "execute_result"
    }
   ],
   "source": [
    "df.head()"
   ]
  },
  {
   "cell_type": "code",
   "execution_count": 106,
   "metadata": {
    "collapsed": false
   },
   "outputs": [
    {
     "data": {
      "text/html": [
       "<div>\n",
       "<style scoped>\n",
       "    .dataframe tbody tr th:only-of-type {\n",
       "        vertical-align: middle;\n",
       "    }\n",
       "\n",
       "    .dataframe tbody tr th {\n",
       "        vertical-align: top;\n",
       "    }\n",
       "\n",
       "    .dataframe thead th {\n",
       "        text-align: right;\n",
       "    }\n",
       "</style>\n",
       "<table border=\"1\" class=\"dataframe\">\n",
       "  <thead>\n",
       "    <tr style=\"text-align: right;\">\n",
       "      <th></th>\n",
       "      <th>count</th>\n",
       "      <th>mean</th>\n",
       "      <th>std</th>\n",
       "      <th>min</th>\n",
       "      <th>25%</th>\n",
       "      <th>50%</th>\n",
       "      <th>75%</th>\n",
       "      <th>max</th>\n",
       "    </tr>\n",
       "  </thead>\n",
       "  <tbody>\n",
       "    <tr>\n",
       "      <th>ratio</th>\n",
       "      <td>156.0</td>\n",
       "      <td>4.848261</td>\n",
       "      <td>2.786469</td>\n",
       "      <td>2.191994</td>\n",
       "      <td>3.476017</td>\n",
       "      <td>4.15138</td>\n",
       "      <td>5.269512</td>\n",
       "      <td>24.995184</td>\n",
       "    </tr>\n",
       "  </tbody>\n",
       "</table>\n",
       "</div>"
      ],
      "text/plain": [
       "       count      mean       std       min       25%      50%       75%  \\\n",
       "ratio  156.0  4.848261  2.786469  2.191994  3.476017  4.15138  5.269512   \n",
       "\n",
       "             max  \n",
       "ratio  24.995184  "
      ]
     },
     "execution_count": 106,
     "metadata": {},
     "output_type": "execute_result"
    }
   ],
   "source": [
    "pd.DataFrame(df.ratio.describe()).T"
   ]
  },
  {
   "cell_type": "code",
   "execution_count": 102,
   "metadata": {
    "collapsed": false
   },
   "outputs": [
    {
     "name": "stdout",
     "output_type": "stream",
     "text": [
      "\\begin{tabular}{lrrrrrrrr}\n",
      "\\toprule\n",
      "{} &  count &      mean &       std &       min &       25\\% &      50\\% &       75\\% &        max \\\\\n",
      "\\midrule\n",
      "ratio &  156.0 &  4.848261 &  2.786469 &  2.191994 &  3.476017 &  4.15138 &  5.269512 &  24.995184 \\\\\n",
      "\\bottomrule\n",
      "\\end{tabular}\n",
      "\n"
     ]
    }
   ],
   "source": [
    "print ((pd.DataFrame(df.ratio.describe()).T).to_latex())"
   ]
  },
  {
   "cell_type": "code",
   "execution_count": 15,
   "metadata": {
    "collapsed": true
   },
   "outputs": [],
   "source": [
    "df_size = pd.read_csv(open('size_part.txt'))"
   ]
  },
  {
   "cell_type": "code",
   "execution_count": 16,
   "metadata": {
    "collapsed": false
   },
   "outputs": [
    {
     "name": "stderr",
     "output_type": "stream",
     "text": [
      "/Users/eggeek/anaconda2/envs/py3/lib/python3.5/site-packages/pandas/core/frame.py:3781: SettingWithCopyWarning: \n",
      "A value is trying to be set on a copy of a slice from a DataFrame\n",
      "\n",
      "See the caveats in the documentation: http://pandas.pydata.org/pandas-docs/stable/indexing.html#indexing-view-versus-copy\n",
      "  return super(DataFrame, self).rename(**kwargs)\n",
      "/Users/eggeek/anaconda2/envs/py3/lib/python3.5/site-packages/pandas/core/frame.py:3697: SettingWithCopyWarning: \n",
      "A value is trying to be set on a copy of a slice from a DataFrame\n",
      "\n",
      "See the caveats in the documentation: http://pandas.pydata.org/pandas-docs/stable/indexing.html#indexing-view-versus-copy\n",
      "  errors=errors)\n"
     ]
    }
   ],
   "source": [
    "df0 = df_size[df_size.hLevel == 0]\n",
    "df1 = df_size[df_size.hLevel == 1]\n",
    "df2 = df_size[df_size.hLevel == 2]\n",
    "\n",
    "df0.rename(columns={'bytes': 'bytes-0'}, inplace=True)\n",
    "df0.drop(columns=['hLevel'], inplace=True)\n",
    "\n",
    "df1.rename(columns={'bytes': 'bytes-1'}, inplace=True)\n",
    "df1.drop(columns=['hLevel'], inplace=True)\n",
    "\n",
    "df2.rename(columns={'bytes': 'bytes-2'}, inplace=True)\n",
    "df2.drop(columns=['hLevel'], inplace=True)\n",
    "df = pd.merge(df0, df1, on='map')\n",
    "df = pd.merge(df, df2, on='map')"
   ]
  },
  {
   "cell_type": "code",
   "execution_count": 17,
   "metadata": {
    "collapsed": false,
    "scrolled": true
   },
   "outputs": [
    {
     "data": {
      "text/html": [
       "<div>\n",
       "<style scoped>\n",
       "    .dataframe tbody tr th:only-of-type {\n",
       "        vertical-align: middle;\n",
       "    }\n",
       "\n",
       "    .dataframe tbody tr th {\n",
       "        vertical-align: top;\n",
       "    }\n",
       "\n",
       "    .dataframe thead th {\n",
       "        text-align: right;\n",
       "    }\n",
       "</style>\n",
       "<table border=\"1\" class=\"dataframe\">\n",
       "  <thead>\n",
       "    <tr style=\"text-align: right;\">\n",
       "      <th></th>\n",
       "      <th>map</th>\n",
       "      <th>bytes-0</th>\n",
       "      <th>bytes-1</th>\n",
       "      <th>bytes-2</th>\n",
       "    </tr>\n",
       "  </thead>\n",
       "  <tbody>\n",
       "    <tr>\n",
       "      <th>0</th>\n",
       "      <td>maze512-1-0</td>\n",
       "      <td>3096780</td>\n",
       "      <td>3090232</td>\n",
       "      <td>3084924</td>\n",
       "    </tr>\n",
       "    <tr>\n",
       "      <th>1</th>\n",
       "      <td>brc000d</td>\n",
       "      <td>10352996</td>\n",
       "      <td>4307840</td>\n",
       "      <td>3359956</td>\n",
       "    </tr>\n",
       "    <tr>\n",
       "      <th>2</th>\n",
       "      <td>brc100d</td>\n",
       "      <td>7326560</td>\n",
       "      <td>2562468</td>\n",
       "      <td>2310620</td>\n",
       "    </tr>\n",
       "    <tr>\n",
       "      <th>3</th>\n",
       "      <td>den404d</td>\n",
       "      <td>26792</td>\n",
       "      <td>8876</td>\n",
       "      <td>8656</td>\n",
       "    </tr>\n",
       "    <tr>\n",
       "      <th>4</th>\n",
       "      <td>brc202d</td>\n",
       "      <td>8021816</td>\n",
       "      <td>2455696</td>\n",
       "      <td>2231280</td>\n",
       "    </tr>\n",
       "    <tr>\n",
       "      <th>5</th>\n",
       "      <td>random512-10-0</td>\n",
       "      <td>313807080</td>\n",
       "      <td>279120280</td>\n",
       "      <td>217722432</td>\n",
       "    </tr>\n",
       "    <tr>\n",
       "      <th>6</th>\n",
       "      <td>den200n</td>\n",
       "      <td>3054072</td>\n",
       "      <td>823732</td>\n",
       "      <td>779924</td>\n",
       "    </tr>\n",
       "    <tr>\n",
       "      <th>7</th>\n",
       "      <td>16room_000</td>\n",
       "      <td>176481032</td>\n",
       "      <td>158217928</td>\n",
       "      <td>157823592</td>\n",
       "    </tr>\n",
       "    <tr>\n",
       "      <th>8</th>\n",
       "      <td>den202d</td>\n",
       "      <td>67204</td>\n",
       "      <td>17176</td>\n",
       "      <td>16060</td>\n",
       "    </tr>\n",
       "    <tr>\n",
       "      <th>9</th>\n",
       "      <td>arena2</td>\n",
       "      <td>7168988</td>\n",
       "      <td>2501612</td>\n",
       "      <td>2466796</td>\n",
       "    </tr>\n",
       "    <tr>\n",
       "      <th>10</th>\n",
       "      <td>arena</td>\n",
       "      <td>483584</td>\n",
       "      <td>103380</td>\n",
       "      <td>70136</td>\n",
       "    </tr>\n",
       "  </tbody>\n",
       "</table>\n",
       "</div>"
      ],
      "text/plain": [
       "               map    bytes-0    bytes-1    bytes-2\n",
       "0      maze512-1-0    3096780    3090232    3084924\n",
       "1          brc000d   10352996    4307840    3359956\n",
       "2          brc100d    7326560    2562468    2310620\n",
       "3          den404d      26792       8876       8656\n",
       "4          brc202d    8021816    2455696    2231280\n",
       "5   random512-10-0  313807080  279120280  217722432\n",
       "6          den200n    3054072     823732     779924\n",
       "7       16room_000  176481032  158217928  157823592\n",
       "8          den202d      67204      17176      16060\n",
       "9           arena2    7168988    2501612    2466796\n",
       "10           arena     483584     103380      70136"
      ]
     },
     "execution_count": 17,
     "metadata": {},
     "output_type": "execute_result"
    }
   ],
   "source": [
    "df"
   ]
  },
  {
   "cell_type": "code",
   "execution_count": 54,
   "metadata": {
    "collapsed": false
   },
   "outputs": [],
   "source": [
    "prefix = '../outputs/'\n",
    "h0 = [prefix + i for i in os.listdir(prefix) if i.endswith('0.txt')]\n",
    "h1 = [prefix + i for i in os.listdir(prefix) if i.endswith('1.txt')]\n",
    "h2 = [prefix + i for i in os.listdir(prefix) if i.endswith('2.txt')]"
   ]
  },
  {
   "cell_type": "code",
   "execution_count": 55,
   "metadata": {
    "collapsed": false
   },
   "outputs": [
    {
     "name": "stderr",
     "output_type": "stream",
     "text": [
      "/Users/eggeek/anaconda2/envs/py3/lib/python3.5/site-packages/ipykernel/__main__.py:1: FutureWarning: from_csv is deprecated. Please use read_csv(...) instead. Note that some of the default arguments are different, so please refer to the documentation for from_csv when changing your function calls\n",
      "  if __name__ == '__main__':\n",
      "/Users/eggeek/anaconda2/envs/py3/lib/python3.5/site-packages/ipykernel/__main__.py:2: FutureWarning: from_csv is deprecated. Please use read_csv(...) instead. Note that some of the default arguments are different, so please refer to the documentation for from_csv when changing your function calls\n",
      "  from ipykernel import kernelapp as app\n",
      "/Users/eggeek/anaconda2/envs/py3/lib/python3.5/site-packages/ipykernel/__main__.py:3: FutureWarning: from_csv is deprecated. Please use read_csv(...) instead. Note that some of the default arguments are different, so please refer to the documentation for from_csv when changing your function calls\n",
      "  app.launch_new_instance()\n"
     ]
    }
   ],
   "source": [
    "df0 = pd.concat([pd.DataFrame.from_csv(i, index_col=None) for i in h0])\n",
    "df1 = pd.concat([pd.DataFrame.from_csv(i, index_col=None) for i in h1])\n",
    "df2 = pd.concat([pd.DataFrame.from_csv(i, index_col=None) for i in h2])"
   ]
  },
  {
   "cell_type": "code",
   "execution_count": 56,
   "metadata": {
    "collapsed": false
   },
   "outputs": [
    {
     "data": {
      "text/html": [
       "<div>\n",
       "<style scoped>\n",
       "    .dataframe tbody tr th:only-of-type {\n",
       "        vertical-align: middle;\n",
       "    }\n",
       "\n",
       "    .dataframe tbody tr th {\n",
       "        vertical-align: top;\n",
       "    }\n",
       "\n",
       "    .dataframe thead th {\n",
       "        text-align: right;\n",
       "    }\n",
       "</style>\n",
       "<table border=\"1\" class=\"dataframe\">\n",
       "  <thead>\n",
       "    <tr style=\"text-align: right;\">\n",
       "      <th></th>\n",
       "      <th>map</th>\n",
       "      <th>scenid</th>\n",
       "      <th>total-src</th>\n",
       "      <th>20move-src</th>\n",
       "      <th>distance</th>\n",
       "      <th>path_size</th>\n",
       "      <th>hLevel</th>\n",
       "    </tr>\n",
       "  </thead>\n",
       "  <tbody>\n",
       "    <tr>\n",
       "      <th>0</th>\n",
       "      <td>brc202d</td>\n",
       "      <td>0</td>\n",
       "      <td>166</td>\n",
       "      <td>205</td>\n",
       "      <td>0</td>\n",
       "      <td>0</td>\n",
       "      <td>0</td>\n",
       "    </tr>\n",
       "    <tr>\n",
       "      <th>1</th>\n",
       "      <td>brc202d</td>\n",
       "      <td>1</td>\n",
       "      <td>227</td>\n",
       "      <td>225</td>\n",
       "      <td>0</td>\n",
       "      <td>0</td>\n",
       "      <td>0</td>\n",
       "    </tr>\n",
       "    <tr>\n",
       "      <th>2</th>\n",
       "      <td>brc202d</td>\n",
       "      <td>2</td>\n",
       "      <td>407</td>\n",
       "      <td>515</td>\n",
       "      <td>0</td>\n",
       "      <td>0</td>\n",
       "      <td>0</td>\n",
       "    </tr>\n",
       "    <tr>\n",
       "      <th>3</th>\n",
       "      <td>brc202d</td>\n",
       "      <td>3</td>\n",
       "      <td>196</td>\n",
       "      <td>181</td>\n",
       "      <td>0</td>\n",
       "      <td>0</td>\n",
       "      <td>0</td>\n",
       "    </tr>\n",
       "    <tr>\n",
       "      <th>4</th>\n",
       "      <td>brc202d</td>\n",
       "      <td>4</td>\n",
       "      <td>280</td>\n",
       "      <td>321</td>\n",
       "      <td>0</td>\n",
       "      <td>0</td>\n",
       "      <td>0</td>\n",
       "    </tr>\n",
       "  </tbody>\n",
       "</table>\n",
       "</div>"
      ],
      "text/plain": [
       "       map  scenid  total-src  20move-src  distance  path_size  hLevel\n",
       "0  brc202d       0        166         205         0          0       0\n",
       "1  brc202d       1        227         225         0          0       0\n",
       "2  brc202d       2        407         515         0          0       0\n",
       "3  brc202d       3        196         181         0          0       0\n",
       "4  brc202d       4        280         321         0          0       0"
      ]
     },
     "execution_count": 56,
     "metadata": {},
     "output_type": "execute_result"
    }
   ],
   "source": [
    "df0.head()"
   ]
  },
  {
   "cell_type": "code",
   "execution_count": 58,
   "metadata": {
    "collapsed": false
   },
   "outputs": [],
   "source": [
    "df0.drop(columns=['hLevel', 'distance','path_size'], inplace=True)\n",
    "df1.drop(columns=['hLevel', 'distance','path_size'], inplace=True)\n",
    "df2.drop(columns=['hLevel', 'distance','path_size'], inplace=True)"
   ]
  },
  {
   "cell_type": "code",
   "execution_count": 67,
   "metadata": {
    "collapsed": false
   },
   "outputs": [],
   "source": [
    "df01 = pd.merge(df0, df1, on=['map', 'scenid'])\n",
    "df01.rename(columns={'total-src_x': 'src-total-0', '20move-src_x': 'src-20moves-0',\n",
    "                   'total-src_y': 'src-total-1', '20move-src_y': 'src-20moves-1'}, inplace=True)\n",
    "df = pd.merge(df01, df2, on=['map', 'scenid'])\n",
    "df.rename(columns={'total-src': 'src-total-2', '20move-src': 'src-20move-2'}, inplace=True)"
   ]
  },
  {
   "cell_type": "code",
   "execution_count": 70,
   "metadata": {
    "collapsed": false
   },
   "outputs": [
    {
     "data": {
      "text/html": [
       "<div>\n",
       "<style scoped>\n",
       "    .dataframe tbody tr th:only-of-type {\n",
       "        vertical-align: middle;\n",
       "    }\n",
       "\n",
       "    .dataframe tbody tr th {\n",
       "        vertical-align: top;\n",
       "    }\n",
       "\n",
       "    .dataframe thead th {\n",
       "        text-align: right;\n",
       "    }\n",
       "</style>\n",
       "<table border=\"1\" class=\"dataframe\">\n",
       "  <thead>\n",
       "    <tr style=\"text-align: right;\">\n",
       "      <th></th>\n",
       "      <th>map</th>\n",
       "      <th>scenid</th>\n",
       "      <th>src-total-0</th>\n",
       "      <th>src-20moves-0</th>\n",
       "      <th>src-total-1</th>\n",
       "      <th>src-20moves-1</th>\n",
       "      <th>src-total-2</th>\n",
       "      <th>src-20move-2</th>\n",
       "    </tr>\n",
       "  </thead>\n",
       "  <tbody>\n",
       "    <tr>\n",
       "      <th>0</th>\n",
       "      <td>brc202d</td>\n",
       "      <td>0</td>\n",
       "      <td>166</td>\n",
       "      <td>205</td>\n",
       "      <td>132</td>\n",
       "      <td>122</td>\n",
       "      <td>236</td>\n",
       "      <td>221</td>\n",
       "    </tr>\n",
       "    <tr>\n",
       "      <th>1</th>\n",
       "      <td>brc202d</td>\n",
       "      <td>1</td>\n",
       "      <td>227</td>\n",
       "      <td>225</td>\n",
       "      <td>172</td>\n",
       "      <td>164</td>\n",
       "      <td>264</td>\n",
       "      <td>296</td>\n",
       "    </tr>\n",
       "    <tr>\n",
       "      <th>2</th>\n",
       "      <td>brc202d</td>\n",
       "      <td>2</td>\n",
       "      <td>407</td>\n",
       "      <td>515</td>\n",
       "      <td>361</td>\n",
       "      <td>431</td>\n",
       "      <td>596</td>\n",
       "      <td>690</td>\n",
       "    </tr>\n",
       "    <tr>\n",
       "      <th>3</th>\n",
       "      <td>brc202d</td>\n",
       "      <td>3</td>\n",
       "      <td>196</td>\n",
       "      <td>181</td>\n",
       "      <td>192</td>\n",
       "      <td>174</td>\n",
       "      <td>306</td>\n",
       "      <td>277</td>\n",
       "    </tr>\n",
       "    <tr>\n",
       "      <th>4</th>\n",
       "      <td>brc202d</td>\n",
       "      <td>4</td>\n",
       "      <td>280</td>\n",
       "      <td>321</td>\n",
       "      <td>230</td>\n",
       "      <td>282</td>\n",
       "      <td>290</td>\n",
       "      <td>360</td>\n",
       "    </tr>\n",
       "  </tbody>\n",
       "</table>\n",
       "</div>"
      ],
      "text/plain": [
       "       map  scenid  src-total-0  src-20moves-0  src-total-1  src-20moves-1  \\\n",
       "0  brc202d       0          166            205          132            122   \n",
       "1  brc202d       1          227            225          172            164   \n",
       "2  brc202d       2          407            515          361            431   \n",
       "3  brc202d       3          196            181          192            174   \n",
       "4  brc202d       4          280            321          230            282   \n",
       "\n",
       "   src-total-2  src-20move-2  \n",
       "0          236           221  \n",
       "1          264           296  \n",
       "2          596           690  \n",
       "3          306           277  \n",
       "4          290           360  "
      ]
     },
     "execution_count": 70,
     "metadata": {},
     "output_type": "execute_result"
    }
   ],
   "source": [
    "df.head()"
   ]
  },
  {
   "cell_type": "code",
   "execution_count": 71,
   "metadata": {
    "collapsed": false
   },
   "outputs": [],
   "source": [
    "df['ratio-total-01'] = df['src-total-0'] / df['src-total-1']\n",
    "df['ratio-20-01'] = df['src-20moves-0'] / df['src-20moves-1']"
   ]
  },
  {
   "cell_type": "code",
   "execution_count": 72,
   "metadata": {
    "collapsed": true
   },
   "outputs": [],
   "source": [
    "df['ratio-total-02'] = df['src-total-0'] / df['src-total-1']\n",
    "df['ratio-20-02'] = df['src-20moves-0'] / df['src-20move-2']"
   ]
  },
  {
   "cell_type": "code",
   "execution_count": 73,
   "metadata": {
    "collapsed": false
   },
   "outputs": [
    {
     "data": {
      "text/html": [
       "<div>\n",
       "<style scoped>\n",
       "    .dataframe tbody tr th:only-of-type {\n",
       "        vertical-align: middle;\n",
       "    }\n",
       "\n",
       "    .dataframe tbody tr th {\n",
       "        vertical-align: top;\n",
       "    }\n",
       "\n",
       "    .dataframe thead th {\n",
       "        text-align: right;\n",
       "    }\n",
       "</style>\n",
       "<table border=\"1\" class=\"dataframe\">\n",
       "  <thead>\n",
       "    <tr style=\"text-align: right;\">\n",
       "      <th></th>\n",
       "      <th>count</th>\n",
       "      <th>mean</th>\n",
       "      <th>std</th>\n",
       "      <th>min</th>\n",
       "      <th>25%</th>\n",
       "      <th>50%</th>\n",
       "      <th>75%</th>\n",
       "      <th>max</th>\n",
       "    </tr>\n",
       "  </thead>\n",
       "  <tbody>\n",
       "    <tr>\n",
       "      <th>ratio-total-01</th>\n",
       "      <td>1621721.0</td>\n",
       "      <td>1.072766</td>\n",
       "      <td>0.148698</td>\n",
       "      <td>0.470356</td>\n",
       "      <td>0.974952</td>\n",
       "      <td>1.062454</td>\n",
       "      <td>1.163704</td>\n",
       "      <td>2.589286</td>\n",
       "    </tr>\n",
       "  </tbody>\n",
       "</table>\n",
       "</div>"
      ],
      "text/plain": [
       "                    count      mean       std       min       25%       50%  \\\n",
       "ratio-total-01  1621721.0  1.072766  0.148698  0.470356  0.974952  1.062454   \n",
       "\n",
       "                     75%       max  \n",
       "ratio-total-01  1.163704  2.589286  "
      ]
     },
     "execution_count": 73,
     "metadata": {},
     "output_type": "execute_result"
    }
   ],
   "source": [
    "pd.DataFrame(df['ratio-total-01']).describe().T"
   ]
  },
  {
   "cell_type": "code",
   "execution_count": 74,
   "metadata": {
    "collapsed": false
   },
   "outputs": [
    {
     "data": {
      "text/html": [
       "<div>\n",
       "<style scoped>\n",
       "    .dataframe tbody tr th:only-of-type {\n",
       "        vertical-align: middle;\n",
       "    }\n",
       "\n",
       "    .dataframe tbody tr th {\n",
       "        vertical-align: top;\n",
       "    }\n",
       "\n",
       "    .dataframe thead th {\n",
       "        text-align: right;\n",
       "    }\n",
       "</style>\n",
       "<table border=\"1\" class=\"dataframe\">\n",
       "  <thead>\n",
       "    <tr style=\"text-align: right;\">\n",
       "      <th></th>\n",
       "      <th>count</th>\n",
       "      <th>mean</th>\n",
       "      <th>std</th>\n",
       "      <th>min</th>\n",
       "      <th>25%</th>\n",
       "      <th>50%</th>\n",
       "      <th>75%</th>\n",
       "      <th>max</th>\n",
       "    </tr>\n",
       "  </thead>\n",
       "  <tbody>\n",
       "    <tr>\n",
       "      <th>ratio-total-02</th>\n",
       "      <td>1621721.0</td>\n",
       "      <td>1.072766</td>\n",
       "      <td>0.148698</td>\n",
       "      <td>0.470356</td>\n",
       "      <td>0.974952</td>\n",
       "      <td>1.062454</td>\n",
       "      <td>1.163704</td>\n",
       "      <td>2.589286</td>\n",
       "    </tr>\n",
       "  </tbody>\n",
       "</table>\n",
       "</div>"
      ],
      "text/plain": [
       "                    count      mean       std       min       25%       50%  \\\n",
       "ratio-total-02  1621721.0  1.072766  0.148698  0.470356  0.974952  1.062454   \n",
       "\n",
       "                     75%       max  \n",
       "ratio-total-02  1.163704  2.589286  "
      ]
     },
     "execution_count": 74,
     "metadata": {},
     "output_type": "execute_result"
    }
   ],
   "source": [
    "pd.DataFrame(df['ratio-total-02'].describe()).T"
   ]
  },
  {
   "cell_type": "code",
   "execution_count": 75,
   "metadata": {
    "collapsed": false
   },
   "outputs": [
    {
     "data": {
      "text/html": [
       "<div>\n",
       "<style scoped>\n",
       "    .dataframe tbody tr th:only-of-type {\n",
       "        vertical-align: middle;\n",
       "    }\n",
       "\n",
       "    .dataframe tbody tr th {\n",
       "        vertical-align: top;\n",
       "    }\n",
       "\n",
       "    .dataframe thead th {\n",
       "        text-align: right;\n",
       "    }\n",
       "</style>\n",
       "<table border=\"1\" class=\"dataframe\">\n",
       "  <thead>\n",
       "    <tr style=\"text-align: right;\">\n",
       "      <th></th>\n",
       "      <th>count</th>\n",
       "      <th>mean</th>\n",
       "      <th>std</th>\n",
       "      <th>min</th>\n",
       "      <th>25%</th>\n",
       "      <th>50%</th>\n",
       "      <th>75%</th>\n",
       "      <th>max</th>\n",
       "    </tr>\n",
       "  </thead>\n",
       "  <tbody>\n",
       "    <tr>\n",
       "      <th>ratio-20-01</th>\n",
       "      <td>1621721.0</td>\n",
       "      <td>1.149351</td>\n",
       "      <td>0.181012</td>\n",
       "      <td>0.330291</td>\n",
       "      <td>1.032143</td>\n",
       "      <td>1.145833</td>\n",
       "      <td>1.267139</td>\n",
       "      <td>4.129568</td>\n",
       "    </tr>\n",
       "  </tbody>\n",
       "</table>\n",
       "</div>"
      ],
      "text/plain": [
       "                 count      mean       std       min       25%       50%  \\\n",
       "ratio-20-01  1621721.0  1.149351  0.181012  0.330291  1.032143  1.145833   \n",
       "\n",
       "                  75%       max  \n",
       "ratio-20-01  1.267139  4.129568  "
      ]
     },
     "execution_count": 75,
     "metadata": {},
     "output_type": "execute_result"
    }
   ],
   "source": [
    "pd.DataFrame(df['ratio-20-01'].describe()).T"
   ]
  },
  {
   "cell_type": "code",
   "execution_count": 76,
   "metadata": {
    "collapsed": false
   },
   "outputs": [
    {
     "data": {
      "text/html": [
       "<div>\n",
       "<style scoped>\n",
       "    .dataframe tbody tr th:only-of-type {\n",
       "        vertical-align: middle;\n",
       "    }\n",
       "\n",
       "    .dataframe tbody tr th {\n",
       "        vertical-align: top;\n",
       "    }\n",
       "\n",
       "    .dataframe thead th {\n",
       "        text-align: right;\n",
       "    }\n",
       "</style>\n",
       "<table border=\"1\" class=\"dataframe\">\n",
       "  <thead>\n",
       "    <tr style=\"text-align: right;\">\n",
       "      <th></th>\n",
       "      <th>count</th>\n",
       "      <th>mean</th>\n",
       "      <th>std</th>\n",
       "      <th>min</th>\n",
       "      <th>25%</th>\n",
       "      <th>50%</th>\n",
       "      <th>75%</th>\n",
       "      <th>max</th>\n",
       "    </tr>\n",
       "  </thead>\n",
       "  <tbody>\n",
       "    <tr>\n",
       "      <th>ratio-20-02</th>\n",
       "      <td>1621721.0</td>\n",
       "      <td>0.487154</td>\n",
       "      <td>0.134274</td>\n",
       "      <td>0.257463</td>\n",
       "      <td>0.400755</td>\n",
       "      <td>0.462141</td>\n",
       "      <td>0.548983</td>\n",
       "      <td>4.143333</td>\n",
       "    </tr>\n",
       "  </tbody>\n",
       "</table>\n",
       "</div>"
      ],
      "text/plain": [
       "                 count      mean       std       min       25%       50%  \\\n",
       "ratio-20-02  1621721.0  0.487154  0.134274  0.257463  0.400755  0.462141   \n",
       "\n",
       "                  75%       max  \n",
       "ratio-20-02  0.548983  4.143333  "
      ]
     },
     "execution_count": 76,
     "metadata": {},
     "output_type": "execute_result"
    }
   ],
   "source": [
    "pd.DataFrame(df['ratio-20-02'].describe()).T"
   ]
  }
 ],
 "metadata": {
  "kernelspec": {
   "display_name": "Python 3",
   "language": "python",
   "name": "python3"
  },
  "language_info": {
   "codemirror_mode": {
    "name": "ipython",
    "version": 3
   },
   "file_extension": ".py",
   "mimetype": "text/x-python",
   "name": "python",
   "nbconvert_exporter": "python",
   "pygments_lexer": "ipython3",
   "version": "3.5.3"
  }
 },
 "nbformat": 4,
 "nbformat_minor": 2
}
