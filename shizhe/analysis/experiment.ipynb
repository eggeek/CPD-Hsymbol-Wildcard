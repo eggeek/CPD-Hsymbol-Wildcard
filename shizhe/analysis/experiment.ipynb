{
 "cells": [
  {
   "cell_type": "code",
   "execution_count": 2,
   "metadata": {
    "collapsed": false
   },
   "outputs": [
    {
     "name": "stderr",
     "output_type": "stream",
     "text": [
      "/Users/eggeek/anaconda2/envs/py3/lib/python3.5/importlib/_bootstrap.py:222: RuntimeWarning: numpy.dtype size changed, may indicate binary incompatibility. Expected 96, got 88\n",
      "  return f(*args, **kwds)\n"
     ]
    }
   ],
   "source": [
    "import pandas as pd\n",
    "import os\n",
    "%matplotlib inline"
   ]
  },
  {
   "cell_type": "code",
   "execution_count": 17,
   "metadata": {
    "collapsed": false
   },
   "outputs": [],
   "source": [
    "df_size = pd.read_csv(open('size.txt'))"
   ]
  },
  {
   "cell_type": "code",
   "execution_count": 89,
   "metadata": {
    "collapsed": false
   },
   "outputs": [
    {
     "name": "stderr",
     "output_type": "stream",
     "text": [
      "/Users/eggeek/anaconda2/envs/py3/lib/python3.5/site-packages/pandas/core/frame.py:3781: SettingWithCopyWarning: \n",
      "A value is trying to be set on a copy of a slice from a DataFrame\n",
      "\n",
      "See the caveats in the documentation: http://pandas.pydata.org/pandas-docs/stable/indexing.html#indexing-view-versus-copy\n",
      "  return super(DataFrame, self).rename(**kwargs)\n",
      "/Users/eggeek/anaconda2/envs/py3/lib/python3.5/site-packages/pandas/core/frame.py:3697: SettingWithCopyWarning: \n",
      "A value is trying to be set on a copy of a slice from a DataFrame\n",
      "\n",
      "See the caveats in the documentation: http://pandas.pydata.org/pandas-docs/stable/indexing.html#indexing-view-versus-copy\n",
      "  errors=errors)\n"
     ]
    }
   ],
   "source": [
    "df0 = df_size[df_size.hLevel == 0]\n",
    "df1 = df_size[df_size.hLevel == 1]\n",
    "\n",
    "df0.rename(columns={'bytes': 'bytes-0'}, inplace=True)\n",
    "df0.drop(columns=['hLevel'], inplace=True)\n",
    "\n",
    "df1.rename(columns={'bytes': 'bytes-1'}, inplace=True)\n",
    "df1.drop(columns=['hLevel'], inplace=True)"
   ]
  },
  {
   "cell_type": "code",
   "execution_count": 90,
   "metadata": {
    "collapsed": false
   },
   "outputs": [],
   "source": [
    "df = pd.merge(df0, df1, on='map')"
   ]
  },
  {
   "cell_type": "code",
   "execution_count": 92,
   "metadata": {
    "collapsed": false
   },
   "outputs": [],
   "source": [
    "df['ratio'] = df['bytes-0'] / df['bytes-1']"
   ]
  },
  {
   "cell_type": "code",
   "execution_count": 93,
   "metadata": {
    "collapsed": false
   },
   "outputs": [
    {
     "data": {
      "text/html": [
       "<div>\n",
       "<style scoped>\n",
       "    .dataframe tbody tr th:only-of-type {\n",
       "        vertical-align: middle;\n",
       "    }\n",
       "\n",
       "    .dataframe tbody tr th {\n",
       "        vertical-align: top;\n",
       "    }\n",
       "\n",
       "    .dataframe thead th {\n",
       "        text-align: right;\n",
       "    }\n",
       "</style>\n",
       "<table border=\"1\" class=\"dataframe\">\n",
       "  <thead>\n",
       "    <tr style=\"text-align: right;\">\n",
       "      <th></th>\n",
       "      <th>map</th>\n",
       "      <th>bytes-0</th>\n",
       "      <th>bytes-1</th>\n",
       "      <th>ratio</th>\n",
       "    </tr>\n",
       "  </thead>\n",
       "  <tbody>\n",
       "    <tr>\n",
       "      <th>0</th>\n",
       "      <td>den504d</td>\n",
       "      <td>4360940</td>\n",
       "      <td>906196</td>\n",
       "      <td>4.812358</td>\n",
       "    </tr>\n",
       "    <tr>\n",
       "      <th>1</th>\n",
       "      <td>lak108d</td>\n",
       "      <td>34700</td>\n",
       "      <td>7548</td>\n",
       "      <td>4.597244</td>\n",
       "    </tr>\n",
       "    <tr>\n",
       "      <th>2</th>\n",
       "      <td>den200d</td>\n",
       "      <td>5188024</td>\n",
       "      <td>1053524</td>\n",
       "      <td>4.924448</td>\n",
       "    </tr>\n",
       "    <tr>\n",
       "      <th>3</th>\n",
       "      <td>lak105d</td>\n",
       "      <td>43032</td>\n",
       "      <td>19160</td>\n",
       "      <td>2.245929</td>\n",
       "    </tr>\n",
       "    <tr>\n",
       "      <th>4</th>\n",
       "      <td>orz107d</td>\n",
       "      <td>85164</td>\n",
       "      <td>16704</td>\n",
       "      <td>5.098420</td>\n",
       "    </tr>\n",
       "  </tbody>\n",
       "</table>\n",
       "</div>"
      ],
      "text/plain": [
       "       map  bytes-0  bytes-1     ratio\n",
       "0  den504d  4360940   906196  4.812358\n",
       "1  lak108d    34700     7548  4.597244\n",
       "2  den200d  5188024  1053524  4.924448\n",
       "3  lak105d    43032    19160  2.245929\n",
       "4  orz107d    85164    16704  5.098420"
      ]
     },
     "execution_count": 93,
     "metadata": {},
     "output_type": "execute_result"
    }
   ],
   "source": [
    "df.head()"
   ]
  },
  {
   "cell_type": "code",
   "execution_count": 106,
   "metadata": {
    "collapsed": false
   },
   "outputs": [
    {
     "data": {
      "text/html": [
       "<div>\n",
       "<style scoped>\n",
       "    .dataframe tbody tr th:only-of-type {\n",
       "        vertical-align: middle;\n",
       "    }\n",
       "\n",
       "    .dataframe tbody tr th {\n",
       "        vertical-align: top;\n",
       "    }\n",
       "\n",
       "    .dataframe thead th {\n",
       "        text-align: right;\n",
       "    }\n",
       "</style>\n",
       "<table border=\"1\" class=\"dataframe\">\n",
       "  <thead>\n",
       "    <tr style=\"text-align: right;\">\n",
       "      <th></th>\n",
       "      <th>count</th>\n",
       "      <th>mean</th>\n",
       "      <th>std</th>\n",
       "      <th>min</th>\n",
       "      <th>25%</th>\n",
       "      <th>50%</th>\n",
       "      <th>75%</th>\n",
       "      <th>max</th>\n",
       "    </tr>\n",
       "  </thead>\n",
       "  <tbody>\n",
       "    <tr>\n",
       "      <th>ratio</th>\n",
       "      <td>156.0</td>\n",
       "      <td>4.848261</td>\n",
       "      <td>2.786469</td>\n",
       "      <td>2.191994</td>\n",
       "      <td>3.476017</td>\n",
       "      <td>4.15138</td>\n",
       "      <td>5.269512</td>\n",
       "      <td>24.995184</td>\n",
       "    </tr>\n",
       "  </tbody>\n",
       "</table>\n",
       "</div>"
      ],
      "text/plain": [
       "       count      mean       std       min       25%      50%       75%  \\\n",
       "ratio  156.0  4.848261  2.786469  2.191994  3.476017  4.15138  5.269512   \n",
       "\n",
       "             max  \n",
       "ratio  24.995184  "
      ]
     },
     "execution_count": 106,
     "metadata": {},
     "output_type": "execute_result"
    }
   ],
   "source": [
    "pd.DataFrame(df.ratio.describe()).T"
   ]
  },
  {
   "cell_type": "code",
   "execution_count": 102,
   "metadata": {
    "collapsed": false
   },
   "outputs": [
    {
     "name": "stdout",
     "output_type": "stream",
     "text": [
      "\\begin{tabular}{lrrrrrrrr}\n",
      "\\toprule\n",
      "{} &  count &      mean &       std &       min &       25\\% &      50\\% &       75\\% &        max \\\\\n",
      "\\midrule\n",
      "ratio &  156.0 &  4.848261 &  2.786469 &  2.191994 &  3.476017 &  4.15138 &  5.269512 &  24.995184 \\\\\n",
      "\\bottomrule\n",
      "\\end{tabular}\n",
      "\n"
     ]
    }
   ],
   "source": [
    "print ((pd.DataFrame(df.ratio.describe()).T).to_latex())"
   ]
  },
  {
   "cell_type": "code",
   "execution_count": 97,
   "metadata": {
    "collapsed": false
   },
   "outputs": [
    {
     "name": "stdout",
     "output_type": "stream",
     "text": [
      "\\begin{tabular}{lr}\n",
      "\\toprule\n",
      "{} &       ratio \\\\\n",
      "\\midrule\n",
      "count &  156.000000 \\\\\n",
      "mean  &    4.848261 \\\\\n",
      "std   &    2.786469 \\\\\n",
      "min   &    2.191994 \\\\\n",
      "25\\%   &    3.476017 \\\\\n",
      "50\\%   &    4.151380 \\\\\n",
      "75\\%   &    5.269512 \\\\\n",
      "max   &   24.995184 \\\\\n",
      "\\bottomrule\n",
      "\\end{tabular}\n",
      "\n"
     ]
    }
   ],
   "source": [
    "print (df.ratio.describe().T.to_latex())"
   ]
  },
  {
   "cell_type": "code",
   "execution_count": 3,
   "metadata": {
    "collapsed": false
   },
   "outputs": [],
   "source": [
    "prefix = '../outputs/'\n",
    "h0 = [prefix + i for i in os.listdir(prefix) if i.endswith('0.txt')]\n",
    "h1 = [prefix + i for i in os.listdir(prefix) if i.endswith('1.txt')]"
   ]
  },
  {
   "cell_type": "code",
   "execution_count": 4,
   "metadata": {
    "collapsed": false
   },
   "outputs": [
    {
     "name": "stderr",
     "output_type": "stream",
     "text": [
      "/Users/eggeek/anaconda2/envs/py3/lib/python3.5/site-packages/ipykernel/__main__.py:1: FutureWarning: from_csv is deprecated. Please use read_csv(...) instead. Note that some of the default arguments are different, so please refer to the documentation for from_csv when changing your function calls\n",
      "  if __name__ == '__main__':\n",
      "/Users/eggeek/anaconda2/envs/py3/lib/python3.5/site-packages/ipykernel/__main__.py:2: FutureWarning: from_csv is deprecated. Please use read_csv(...) instead. Note that some of the default arguments are different, so please refer to the documentation for from_csv when changing your function calls\n",
      "  from ipykernel import kernelapp as app\n"
     ]
    }
   ],
   "source": [
    "df0 = pd.concat([pd.DataFrame.from_csv(i, index_col=None) for i in h0])\n",
    "df1 = pd.concat([pd.DataFrame.from_csv(i, index_col=None) for i in h1])"
   ]
  },
  {
   "cell_type": "code",
   "execution_count": 5,
   "metadata": {
    "collapsed": false
   },
   "outputs": [
    {
     "data": {
      "text/html": [
       "<div>\n",
       "<style scoped>\n",
       "    .dataframe tbody tr th:only-of-type {\n",
       "        vertical-align: middle;\n",
       "    }\n",
       "\n",
       "    .dataframe tbody tr th {\n",
       "        vertical-align: top;\n",
       "    }\n",
       "\n",
       "    .dataframe thead th {\n",
       "        text-align: right;\n",
       "    }\n",
       "</style>\n",
       "<table border=\"1\" class=\"dataframe\">\n",
       "  <thead>\n",
       "    <tr style=\"text-align: right;\">\n",
       "      <th></th>\n",
       "      <th>map</th>\n",
       "      <th>scenid</th>\n",
       "      <th>total</th>\n",
       "      <th>20move</th>\n",
       "      <th>total-src</th>\n",
       "      <th>20move-src</th>\n",
       "      <th>distance</th>\n",
       "      <th>path_size</th>\n",
       "      <th>hLevel</th>\n",
       "    </tr>\n",
       "  </thead>\n",
       "  <tbody>\n",
       "    <tr>\n",
       "      <th>0</th>\n",
       "      <td>lak101d</td>\n",
       "      <td>0</td>\n",
       "      <td>166</td>\n",
       "      <td>154</td>\n",
       "      <td>107</td>\n",
       "      <td>117</td>\n",
       "      <td>2.41421</td>\n",
       "      <td>3</td>\n",
       "      <td>0</td>\n",
       "    </tr>\n",
       "    <tr>\n",
       "      <th>1</th>\n",
       "      <td>lak101d</td>\n",
       "      <td>1</td>\n",
       "      <td>166</td>\n",
       "      <td>152</td>\n",
       "      <td>121</td>\n",
       "      <td>146</td>\n",
       "      <td>3.41421</td>\n",
       "      <td>4</td>\n",
       "      <td>0</td>\n",
       "    </tr>\n",
       "    <tr>\n",
       "      <th>2</th>\n",
       "      <td>lak101d</td>\n",
       "      <td>2</td>\n",
       "      <td>186</td>\n",
       "      <td>162</td>\n",
       "      <td>95</td>\n",
       "      <td>130</td>\n",
       "      <td>3.41421</td>\n",
       "      <td>4</td>\n",
       "      <td>0</td>\n",
       "    </tr>\n",
       "    <tr>\n",
       "      <th>3</th>\n",
       "      <td>lak101d</td>\n",
       "      <td>3</td>\n",
       "      <td>159</td>\n",
       "      <td>147</td>\n",
       "      <td>123</td>\n",
       "      <td>138</td>\n",
       "      <td>3.82843</td>\n",
       "      <td>4</td>\n",
       "      <td>0</td>\n",
       "    </tr>\n",
       "    <tr>\n",
       "      <th>4</th>\n",
       "      <td>lak101d</td>\n",
       "      <td>4</td>\n",
       "      <td>100</td>\n",
       "      <td>103</td>\n",
       "      <td>96</td>\n",
       "      <td>108</td>\n",
       "      <td>2.00000</td>\n",
       "      <td>3</td>\n",
       "      <td>0</td>\n",
       "    </tr>\n",
       "  </tbody>\n",
       "</table>\n",
       "</div>"
      ],
      "text/plain": [
       "       map  scenid  total  20move  total-src  20move-src  distance  path_size  \\\n",
       "0  lak101d       0    166     154        107         117   2.41421          3   \n",
       "1  lak101d       1    166     152        121         146   3.41421          4   \n",
       "2  lak101d       2    186     162         95         130   3.41421          4   \n",
       "3  lak101d       3    159     147        123         138   3.82843          4   \n",
       "4  lak101d       4    100     103         96         108   2.00000          3   \n",
       "\n",
       "   hLevel  \n",
       "0       0  \n",
       "1       0  \n",
       "2       0  \n",
       "3       0  \n",
       "4       0  "
      ]
     },
     "execution_count": 5,
     "metadata": {},
     "output_type": "execute_result"
    }
   ],
   "source": [
    "df0.head()"
   ]
  },
  {
   "cell_type": "code",
   "execution_count": 6,
   "metadata": {
    "collapsed": true
   },
   "outputs": [],
   "source": [
    "df0.drop(columns=['hLevel'], inplace=True)\n",
    "df1.drop(columns=['hLevel'], inplace=True)"
   ]
  },
  {
   "cell_type": "code",
   "execution_count": 12,
   "metadata": {
    "collapsed": false
   },
   "outputs": [],
   "source": [
    "df = pd.merge(df0, df1, on=['map', 'scenid'])"
   ]
  },
  {
   "cell_type": "code",
   "execution_count": 13,
   "metadata": {
    "collapsed": false
   },
   "outputs": [
    {
     "data": {
      "text/html": [
       "<div>\n",
       "<style scoped>\n",
       "    .dataframe tbody tr th:only-of-type {\n",
       "        vertical-align: middle;\n",
       "    }\n",
       "\n",
       "    .dataframe tbody tr th {\n",
       "        vertical-align: top;\n",
       "    }\n",
       "\n",
       "    .dataframe thead th {\n",
       "        text-align: right;\n",
       "    }\n",
       "</style>\n",
       "<table border=\"1\" class=\"dataframe\">\n",
       "  <thead>\n",
       "    <tr style=\"text-align: right;\">\n",
       "      <th></th>\n",
       "      <th>map</th>\n",
       "      <th>scenid</th>\n",
       "      <th>total_x</th>\n",
       "      <th>20move_x</th>\n",
       "      <th>total-src_x</th>\n",
       "      <th>20move-src_x</th>\n",
       "      <th>distance_x</th>\n",
       "      <th>path_size_x</th>\n",
       "      <th>total_y</th>\n",
       "      <th>20move_y</th>\n",
       "      <th>total-src_y</th>\n",
       "      <th>20move-src_y</th>\n",
       "      <th>distance_y</th>\n",
       "      <th>path_size_y</th>\n",
       "    </tr>\n",
       "  </thead>\n",
       "  <tbody>\n",
       "    <tr>\n",
       "      <th>0</th>\n",
       "      <td>lak101d</td>\n",
       "      <td>0</td>\n",
       "      <td>166</td>\n",
       "      <td>154</td>\n",
       "      <td>107</td>\n",
       "      <td>117</td>\n",
       "      <td>2.41421</td>\n",
       "      <td>3</td>\n",
       "      <td>156</td>\n",
       "      <td>150</td>\n",
       "      <td>105</td>\n",
       "      <td>106</td>\n",
       "      <td>2.41421</td>\n",
       "      <td>3</td>\n",
       "    </tr>\n",
       "    <tr>\n",
       "      <th>1</th>\n",
       "      <td>lak101d</td>\n",
       "      <td>1</td>\n",
       "      <td>166</td>\n",
       "      <td>152</td>\n",
       "      <td>121</td>\n",
       "      <td>146</td>\n",
       "      <td>3.41421</td>\n",
       "      <td>4</td>\n",
       "      <td>139</td>\n",
       "      <td>130</td>\n",
       "      <td>93</td>\n",
       "      <td>99</td>\n",
       "      <td>3.41421</td>\n",
       "      <td>4</td>\n",
       "    </tr>\n",
       "    <tr>\n",
       "      <th>2</th>\n",
       "      <td>lak101d</td>\n",
       "      <td>2</td>\n",
       "      <td>186</td>\n",
       "      <td>162</td>\n",
       "      <td>95</td>\n",
       "      <td>130</td>\n",
       "      <td>3.41421</td>\n",
       "      <td>4</td>\n",
       "      <td>152</td>\n",
       "      <td>154</td>\n",
       "      <td>88</td>\n",
       "      <td>94</td>\n",
       "      <td>3.41421</td>\n",
       "      <td>4</td>\n",
       "    </tr>\n",
       "    <tr>\n",
       "      <th>3</th>\n",
       "      <td>lak101d</td>\n",
       "      <td>3</td>\n",
       "      <td>159</td>\n",
       "      <td>147</td>\n",
       "      <td>123</td>\n",
       "      <td>138</td>\n",
       "      <td>3.82843</td>\n",
       "      <td>4</td>\n",
       "      <td>137</td>\n",
       "      <td>148</td>\n",
       "      <td>84</td>\n",
       "      <td>93</td>\n",
       "      <td>3.82843</td>\n",
       "      <td>4</td>\n",
       "    </tr>\n",
       "    <tr>\n",
       "      <th>4</th>\n",
       "      <td>lak101d</td>\n",
       "      <td>4</td>\n",
       "      <td>100</td>\n",
       "      <td>103</td>\n",
       "      <td>96</td>\n",
       "      <td>108</td>\n",
       "      <td>2.00000</td>\n",
       "      <td>3</td>\n",
       "      <td>90</td>\n",
       "      <td>91</td>\n",
       "      <td>81</td>\n",
       "      <td>81</td>\n",
       "      <td>2.00000</td>\n",
       "      <td>3</td>\n",
       "    </tr>\n",
       "  </tbody>\n",
       "</table>\n",
       "</div>"
      ],
      "text/plain": [
       "       map  scenid  total_x  20move_x  total-src_x  20move-src_x  distance_x  \\\n",
       "0  lak101d       0      166       154          107           117     2.41421   \n",
       "1  lak101d       1      166       152          121           146     3.41421   \n",
       "2  lak101d       2      186       162           95           130     3.41421   \n",
       "3  lak101d       3      159       147          123           138     3.82843   \n",
       "4  lak101d       4      100       103           96           108     2.00000   \n",
       "\n",
       "   path_size_x  total_y  20move_y  total-src_y  20move-src_y  distance_y  \\\n",
       "0            3      156       150          105           106     2.41421   \n",
       "1            4      139       130           93            99     3.41421   \n",
       "2            4      152       154           88            94     3.41421   \n",
       "3            4      137       148           84            93     3.82843   \n",
       "4            3       90        91           81            81     2.00000   \n",
       "\n",
       "   path_size_y  \n",
       "0            3  \n",
       "1            4  \n",
       "2            4  \n",
       "3            4  \n",
       "4            3  "
      ]
     },
     "execution_count": 13,
     "metadata": {},
     "output_type": "execute_result"
    }
   ],
   "source": [
    "df.head()"
   ]
  },
  {
   "cell_type": "code",
   "execution_count": 14,
   "metadata": {
    "collapsed": false
   },
   "outputs": [],
   "source": [
    "df.drop(columns=['distance_x', 'path_size_x', 'total-src_x', '20move-src_x'], inplace=True)"
   ]
  },
  {
   "cell_type": "code",
   "execution_count": 15,
   "metadata": {
    "collapsed": false
   },
   "outputs": [],
   "source": [
    "df.rename(columns={'total_x': 'total0', \n",
    "                   'total_y': 'total1', \n",
    "                   '20move_x': '20move0', \n",
    "                   '20move_y': '20move1',\n",
    "                   'total-src_y': 'total-src',\n",
    "                   '20move-src_y': '20move-src',\n",
    "                   'path_size_y': 'path_size',\n",
    "                   'distance_y': 'distance'}, inplace=True)"
   ]
  },
  {
   "cell_type": "code",
   "execution_count": 16,
   "metadata": {
    "collapsed": false
   },
   "outputs": [
    {
     "data": {
      "text/html": [
       "<div>\n",
       "<style scoped>\n",
       "    .dataframe tbody tr th:only-of-type {\n",
       "        vertical-align: middle;\n",
       "    }\n",
       "\n",
       "    .dataframe tbody tr th {\n",
       "        vertical-align: top;\n",
       "    }\n",
       "\n",
       "    .dataframe thead th {\n",
       "        text-align: right;\n",
       "    }\n",
       "</style>\n",
       "<table border=\"1\" class=\"dataframe\">\n",
       "  <thead>\n",
       "    <tr style=\"text-align: right;\">\n",
       "      <th></th>\n",
       "      <th>map</th>\n",
       "      <th>scenid</th>\n",
       "      <th>total0</th>\n",
       "      <th>20move0</th>\n",
       "      <th>total1</th>\n",
       "      <th>20move1</th>\n",
       "      <th>total-src</th>\n",
       "      <th>20move-src</th>\n",
       "      <th>distance</th>\n",
       "      <th>path_size</th>\n",
       "    </tr>\n",
       "  </thead>\n",
       "  <tbody>\n",
       "    <tr>\n",
       "      <th>0</th>\n",
       "      <td>lak101d</td>\n",
       "      <td>0</td>\n",
       "      <td>166</td>\n",
       "      <td>154</td>\n",
       "      <td>156</td>\n",
       "      <td>150</td>\n",
       "      <td>105</td>\n",
       "      <td>106</td>\n",
       "      <td>2.41421</td>\n",
       "      <td>3</td>\n",
       "    </tr>\n",
       "    <tr>\n",
       "      <th>1</th>\n",
       "      <td>lak101d</td>\n",
       "      <td>1</td>\n",
       "      <td>166</td>\n",
       "      <td>152</td>\n",
       "      <td>139</td>\n",
       "      <td>130</td>\n",
       "      <td>93</td>\n",
       "      <td>99</td>\n",
       "      <td>3.41421</td>\n",
       "      <td>4</td>\n",
       "    </tr>\n",
       "    <tr>\n",
       "      <th>2</th>\n",
       "      <td>lak101d</td>\n",
       "      <td>2</td>\n",
       "      <td>186</td>\n",
       "      <td>162</td>\n",
       "      <td>152</td>\n",
       "      <td>154</td>\n",
       "      <td>88</td>\n",
       "      <td>94</td>\n",
       "      <td>3.41421</td>\n",
       "      <td>4</td>\n",
       "    </tr>\n",
       "    <tr>\n",
       "      <th>3</th>\n",
       "      <td>lak101d</td>\n",
       "      <td>3</td>\n",
       "      <td>159</td>\n",
       "      <td>147</td>\n",
       "      <td>137</td>\n",
       "      <td>148</td>\n",
       "      <td>84</td>\n",
       "      <td>93</td>\n",
       "      <td>3.82843</td>\n",
       "      <td>4</td>\n",
       "    </tr>\n",
       "    <tr>\n",
       "      <th>4</th>\n",
       "      <td>lak101d</td>\n",
       "      <td>4</td>\n",
       "      <td>100</td>\n",
       "      <td>103</td>\n",
       "      <td>90</td>\n",
       "      <td>91</td>\n",
       "      <td>81</td>\n",
       "      <td>81</td>\n",
       "      <td>2.00000</td>\n",
       "      <td>3</td>\n",
       "    </tr>\n",
       "  </tbody>\n",
       "</table>\n",
       "</div>"
      ],
      "text/plain": [
       "       map  scenid  total0  20move0  total1  20move1  total-src  20move-src  \\\n",
       "0  lak101d       0     166      154     156      150        105         106   \n",
       "1  lak101d       1     166      152     139      130         93          99   \n",
       "2  lak101d       2     186      162     152      154         88          94   \n",
       "3  lak101d       3     159      147     137      148         84          93   \n",
       "4  lak101d       4     100      103      90       91         81          81   \n",
       "\n",
       "   distance  path_size  \n",
       "0   2.41421          3  \n",
       "1   3.41421          4  \n",
       "2   3.41421          4  \n",
       "3   3.82843          4  \n",
       "4   2.00000          3  "
      ]
     },
     "execution_count": 16,
     "metadata": {},
     "output_type": "execute_result"
    }
   ],
   "source": [
    "df.head()"
   ]
  },
  {
   "cell_type": "code",
   "execution_count": 202,
   "metadata": {
    "collapsed": false
   },
   "outputs": [],
   "source": [
    "df['ratio_total'] = df.total0 / df.total1\n",
    "df['ratio20'] = df['20move0'] / df['20move1']"
   ]
  },
  {
   "cell_type": "code",
   "execution_count": 203,
   "metadata": {
    "collapsed": true
   },
   "outputs": [],
   "source": [
    "df['total_vs_20_0'] = df.total0 / df['20move0']\n",
    "df['total_vs_20_1'] = df.total1 / df['20move1']"
   ]
  },
  {
   "cell_type": "code",
   "execution_count": 204,
   "metadata": {
    "collapsed": false
   },
   "outputs": [
    {
     "data": {
      "text/html": [
       "<div>\n",
       "<style scoped>\n",
       "    .dataframe tbody tr th:only-of-type {\n",
       "        vertical-align: middle;\n",
       "    }\n",
       "\n",
       "    .dataframe tbody tr th {\n",
       "        vertical-align: top;\n",
       "    }\n",
       "\n",
       "    .dataframe thead th {\n",
       "        text-align: right;\n",
       "    }\n",
       "</style>\n",
       "<table border=\"1\" class=\"dataframe\">\n",
       "  <thead>\n",
       "    <tr style=\"text-align: right;\">\n",
       "      <th></th>\n",
       "      <th>count</th>\n",
       "      <th>mean</th>\n",
       "      <th>std</th>\n",
       "      <th>min</th>\n",
       "      <th>25%</th>\n",
       "      <th>50%</th>\n",
       "      <th>75%</th>\n",
       "      <th>max</th>\n",
       "    </tr>\n",
       "  </thead>\n",
       "  <tbody>\n",
       "    <tr>\n",
       "      <th>total_vs_20_0</th>\n",
       "      <td>155620.0</td>\n",
       "      <td>8.091989</td>\n",
       "      <td>9.316379</td>\n",
       "      <td>0.748954</td>\n",
       "      <td>2.677698</td>\n",
       "      <td>5.305104</td>\n",
       "      <td>9.995492</td>\n",
       "      <td>261.793814</td>\n",
       "    </tr>\n",
       "  </tbody>\n",
       "</table>\n",
       "</div>"
      ],
      "text/plain": [
       "                  count      mean       std       min       25%       50%  \\\n",
       "total_vs_20_0  155620.0  8.091989  9.316379  0.748954  2.677698  5.305104   \n",
       "\n",
       "                    75%         max  \n",
       "total_vs_20_0  9.995492  261.793814  "
      ]
     },
     "execution_count": 204,
     "metadata": {},
     "output_type": "execute_result"
    }
   ],
   "source": [
    "pd.DataFrame(df['total_vs_20_0'].describe()).T"
   ]
  },
  {
   "cell_type": "code",
   "execution_count": 205,
   "metadata": {
    "collapsed": false
   },
   "outputs": [
    {
     "data": {
      "text/html": [
       "<div>\n",
       "<style scoped>\n",
       "    .dataframe tbody tr th:only-of-type {\n",
       "        vertical-align: middle;\n",
       "    }\n",
       "\n",
       "    .dataframe tbody tr th {\n",
       "        vertical-align: top;\n",
       "    }\n",
       "\n",
       "    .dataframe thead th {\n",
       "        text-align: right;\n",
       "    }\n",
       "</style>\n",
       "<table border=\"1\" class=\"dataframe\">\n",
       "  <thead>\n",
       "    <tr style=\"text-align: right;\">\n",
       "      <th></th>\n",
       "      <th>count</th>\n",
       "      <th>mean</th>\n",
       "      <th>std</th>\n",
       "      <th>min</th>\n",
       "      <th>25%</th>\n",
       "      <th>50%</th>\n",
       "      <th>75%</th>\n",
       "      <th>max</th>\n",
       "    </tr>\n",
       "  </thead>\n",
       "  <tbody>\n",
       "    <tr>\n",
       "      <th>total_vs_20_1</th>\n",
       "      <td>155620.0</td>\n",
       "      <td>8.433802</td>\n",
       "      <td>9.497184</td>\n",
       "      <td>0.645197</td>\n",
       "      <td>2.699517</td>\n",
       "      <td>5.45216</td>\n",
       "      <td>10.515797</td>\n",
       "      <td>194.701149</td>\n",
       "    </tr>\n",
       "  </tbody>\n",
       "</table>\n",
       "</div>"
      ],
      "text/plain": [
       "                  count      mean       std       min       25%      50%  \\\n",
       "total_vs_20_1  155620.0  8.433802  9.497184  0.645197  2.699517  5.45216   \n",
       "\n",
       "                     75%         max  \n",
       "total_vs_20_1  10.515797  194.701149  "
      ]
     },
     "execution_count": 205,
     "metadata": {},
     "output_type": "execute_result"
    }
   ],
   "source": [
    "pd.DataFrame(df['total_vs_20_1'].describe()).T"
   ]
  },
  {
   "cell_type": "code",
   "execution_count": 208,
   "metadata": {
    "collapsed": false
   },
   "outputs": [
    {
     "data": {
      "text/html": [
       "<div>\n",
       "<style scoped>\n",
       "    .dataframe tbody tr th:only-of-type {\n",
       "        vertical-align: middle;\n",
       "    }\n",
       "\n",
       "    .dataframe tbody tr th {\n",
       "        vertical-align: top;\n",
       "    }\n",
       "\n",
       "    .dataframe thead th {\n",
       "        text-align: right;\n",
       "    }\n",
       "</style>\n",
       "<table border=\"1\" class=\"dataframe\">\n",
       "  <thead>\n",
       "    <tr style=\"text-align: right;\">\n",
       "      <th></th>\n",
       "      <th>count</th>\n",
       "      <th>mean</th>\n",
       "      <th>std</th>\n",
       "      <th>min</th>\n",
       "      <th>25%</th>\n",
       "      <th>50%</th>\n",
       "      <th>75%</th>\n",
       "      <th>max</th>\n",
       "    </tr>\n",
       "  </thead>\n",
       "  <tbody>\n",
       "    <tr>\n",
       "      <th>ratio_total</th>\n",
       "      <td>155620.0</td>\n",
       "      <td>1.136307</td>\n",
       "      <td>0.144924</td>\n",
       "      <td>0.382997</td>\n",
       "      <td>1.057471</td>\n",
       "      <td>1.117647</td>\n",
       "      <td>1.18798</td>\n",
       "      <td>3.157051</td>\n",
       "    </tr>\n",
       "  </tbody>\n",
       "</table>\n",
       "</div>"
      ],
      "text/plain": [
       "                count      mean       std       min       25%       50%  \\\n",
       "ratio_total  155620.0  1.136307  0.144924  0.382997  1.057471  1.117647   \n",
       "\n",
       "                 75%       max  \n",
       "ratio_total  1.18798  3.157051  "
      ]
     },
     "execution_count": 208,
     "metadata": {},
     "output_type": "execute_result"
    }
   ],
   "source": [
    "pd.DataFrame(df['ratio_total'].describe()).T"
   ]
  },
  {
   "cell_type": "code",
   "execution_count": 207,
   "metadata": {
    "collapsed": false
   },
   "outputs": [
    {
     "data": {
      "text/html": [
       "<div>\n",
       "<style scoped>\n",
       "    .dataframe tbody tr th:only-of-type {\n",
       "        vertical-align: middle;\n",
       "    }\n",
       "\n",
       "    .dataframe tbody tr th {\n",
       "        vertical-align: top;\n",
       "    }\n",
       "\n",
       "    .dataframe thead th {\n",
       "        text-align: right;\n",
       "    }\n",
       "</style>\n",
       "<table border=\"1\" class=\"dataframe\">\n",
       "  <thead>\n",
       "    <tr style=\"text-align: right;\">\n",
       "      <th></th>\n",
       "      <th>count</th>\n",
       "      <th>mean</th>\n",
       "      <th>std</th>\n",
       "      <th>min</th>\n",
       "      <th>25%</th>\n",
       "      <th>50%</th>\n",
       "      <th>75%</th>\n",
       "      <th>max</th>\n",
       "    </tr>\n",
       "  </thead>\n",
       "  <tbody>\n",
       "    <tr>\n",
       "      <th>ratio20</th>\n",
       "      <td>155620.0</td>\n",
       "      <td>1.181493</td>\n",
       "      <td>0.250317</td>\n",
       "      <td>0.144702</td>\n",
       "      <td>1.030769</td>\n",
       "      <td>1.135458</td>\n",
       "      <td>1.281588</td>\n",
       "      <td>11.358423</td>\n",
       "    </tr>\n",
       "  </tbody>\n",
       "</table>\n",
       "</div>"
      ],
      "text/plain": [
       "            count      mean       std       min       25%       50%       75%  \\\n",
       "ratio20  155620.0  1.181493  0.250317  0.144702  1.030769  1.135458  1.281588   \n",
       "\n",
       "               max  \n",
       "ratio20  11.358423  "
      ]
     },
     "execution_count": 207,
     "metadata": {},
     "output_type": "execute_result"
    }
   ],
   "source": [
    "pd.DataFrame(df['ratio20'].describe()).T"
   ]
  },
  {
   "cell_type": "code",
   "execution_count": 217,
   "metadata": {
    "collapsed": false
   },
   "outputs": [
    {
     "name": "stderr",
     "output_type": "stream",
     "text": [
      "/Users/eggeek/anaconda2/envs/py3/lib/python3.5/site-packages/ipykernel/__main__.py:1: FutureWarning: 'argmin' is deprecated, use 'idxmin' instead. The behavior of 'argmin'\n",
      "will be corrected to return the positional minimum in the future.\n",
      "Use 'series.values.argmin' to get the position of the minimum now.\n",
      "  if __name__ == '__main__':\n"
     ]
    },
    {
     "data": {
      "text/html": [
       "<div>\n",
       "<style scoped>\n",
       "    .dataframe tbody tr th:only-of-type {\n",
       "        vertical-align: middle;\n",
       "    }\n",
       "\n",
       "    .dataframe tbody tr th {\n",
       "        vertical-align: top;\n",
       "    }\n",
       "\n",
       "    .dataframe thead th {\n",
       "        text-align: right;\n",
       "    }\n",
       "</style>\n",
       "<table border=\"1\" class=\"dataframe\">\n",
       "  <thead>\n",
       "    <tr style=\"text-align: right;\">\n",
       "      <th></th>\n",
       "      <th>map</th>\n",
       "      <th>scenid</th>\n",
       "      <th>total0</th>\n",
       "      <th>20move0</th>\n",
       "      <th>total1</th>\n",
       "      <th>20move1</th>\n",
       "      <th>distance_y</th>\n",
       "      <th>path_size_y</th>\n",
       "      <th>ratio_total</th>\n",
       "      <th>ratio20</th>\n",
       "      <th>total_vs_20_0</th>\n",
       "      <th>total_vs_20_1</th>\n",
       "    </tr>\n",
       "  </thead>\n",
       "  <tbody>\n",
       "    <tr>\n",
       "      <th>27766</th>\n",
       "      <td>ost100d</td>\n",
       "      <td>1316</td>\n",
       "      <td>9199</td>\n",
       "      <td>325</td>\n",
       "      <td>10080</td>\n",
       "      <td>2246</td>\n",
       "      <td>524.877</td>\n",
       "      <td>477</td>\n",
       "      <td>0.912599</td>\n",
       "      <td>0.144702</td>\n",
       "      <td>28.3046</td>\n",
       "      <td>4.48798</td>\n",
       "    </tr>\n",
       "  </tbody>\n",
       "</table>\n",
       "</div>"
      ],
      "text/plain": [
       "           map scenid total0 20move0 total1 20move1 distance_y path_size_y  \\\n",
       "27766  ost100d   1316   9199     325  10080    2246    524.877         477   \n",
       "\n",
       "      ratio_total   ratio20 total_vs_20_0 total_vs_20_1  \n",
       "27766    0.912599  0.144702       28.3046       4.48798  "
      ]
     },
     "execution_count": 217,
     "metadata": {},
     "output_type": "execute_result"
    }
   ],
   "source": [
    "pd.DataFrame(df.loc[df.ratio20.argmin()]).T"
   ]
  }
 ],
 "metadata": {
  "kernelspec": {
   "display_name": "Python 3",
   "language": "python",
   "name": "python3"
  },
  "language_info": {
   "codemirror_mode": {
    "name": "ipython",
    "version": 3
   },
   "file_extension": ".py",
   "mimetype": "text/x-python",
   "name": "python",
   "nbconvert_exporter": "python",
   "pygments_lexer": "ipython3",
   "version": "3.5.3"
  }
 },
 "nbformat": 4,
 "nbformat_minor": 2
}
