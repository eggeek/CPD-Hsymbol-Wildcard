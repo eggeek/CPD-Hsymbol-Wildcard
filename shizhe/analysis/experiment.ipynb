{
 "cells": [
  {
   "cell_type": "code",
   "execution_count": 2,
   "metadata": {
    "collapsed": false,
    "scrolled": true
   },
   "outputs": [
    {
     "name": "stderr",
     "output_type": "stream",
     "text": [
      "/Users/eggeek/anaconda2/envs/py3/lib/python3.5/importlib/_bootstrap.py:222: RuntimeWarning: numpy.dtype size changed, may indicate binary incompatibility. Expected 96, got 88\n",
      "  return f(*args, **kwds)\n"
     ]
    }
   ],
   "source": [
    "import pandas as pd\n",
    "import os\n",
    "%matplotlib inline"
   ]
  },
  {
   "cell_type": "code",
   "execution_count": 17,
   "metadata": {
    "collapsed": false,
    "scrolled": true
   },
   "outputs": [],
   "source": [
    "df_size = pd.read_csv(open('size.txt'))"
   ]
  },
  {
   "cell_type": "code",
   "execution_count": 89,
   "metadata": {
    "collapsed": false,
    "scrolled": true
   },
   "outputs": [
    {
     "name": "stderr",
     "output_type": "stream",
     "text": [
      "/Users/eggeek/anaconda2/envs/py3/lib/python3.5/site-packages/pandas/core/frame.py:3781: SettingWithCopyWarning: \n",
      "A value is trying to be set on a copy of a slice from a DataFrame\n",
      "\n",
      "See the caveats in the documentation: http://pandas.pydata.org/pandas-docs/stable/indexing.html#indexing-view-versus-copy\n",
      "  return super(DataFrame, self).rename(**kwargs)\n",
      "/Users/eggeek/anaconda2/envs/py3/lib/python3.5/site-packages/pandas/core/frame.py:3697: SettingWithCopyWarning: \n",
      "A value is trying to be set on a copy of a slice from a DataFrame\n",
      "\n",
      "See the caveats in the documentation: http://pandas.pydata.org/pandas-docs/stable/indexing.html#indexing-view-versus-copy\n",
      "  errors=errors)\n"
     ]
    }
   ],
   "source": [
    "df0 = df_size[df_size.hLevel == 0]\n",
    "df1 = df_size[df_size.hLevel == 1]\n",
    "\n",
    "df0.rename(columns={'bytes': 'bytes-0'}, inplace=True)\n",
    "df0.drop(columns=['hLevel'], inplace=True)\n",
    "\n",
    "df1.rename(columns={'bytes': 'bytes-1'}, inplace=True)\n",
    "df1.drop(columns=['hLevel'], inplace=True)"
   ]
  },
  {
   "cell_type": "code",
   "execution_count": 90,
   "metadata": {
    "collapsed": false,
    "scrolled": true
   },
   "outputs": [],
   "source": [
    "df = pd.merge(df0, df1, on='map')"
   ]
  },
  {
   "cell_type": "code",
   "execution_count": 92,
   "metadata": {
    "collapsed": false,
    "scrolled": true
   },
   "outputs": [],
   "source": [
    "df['ratio'] = df['bytes-0'] / df['bytes-1']"
   ]
  },
  {
   "cell_type": "code",
   "execution_count": 93,
   "metadata": {
    "collapsed": false,
    "scrolled": true
   },
   "outputs": [
    {
     "data": {
      "text/html": [
       "<div>\n",
       "<style scoped>\n",
       "    .dataframe tbody tr th:only-of-type {\n",
       "        vertical-align: middle;\n",
       "    }\n",
       "\n",
       "    .dataframe tbody tr th {\n",
       "        vertical-align: top;\n",
       "    }\n",
       "\n",
       "    .dataframe thead th {\n",
       "        text-align: right;\n",
       "    }\n",
       "</style>\n",
       "<table border=\"1\" class=\"dataframe\">\n",
       "  <thead>\n",
       "    <tr style=\"text-align: right;\">\n",
       "      <th></th>\n",
       "      <th>map</th>\n",
       "      <th>bytes-0</th>\n",
       "      <th>bytes-1</th>\n",
       "      <th>ratio</th>\n",
       "    </tr>\n",
       "  </thead>\n",
       "  <tbody>\n",
       "    <tr>\n",
       "      <th>0</th>\n",
       "      <td>den504d</td>\n",
       "      <td>4360940</td>\n",
       "      <td>906196</td>\n",
       "      <td>4.812358</td>\n",
       "    </tr>\n",
       "    <tr>\n",
       "      <th>1</th>\n",
       "      <td>lak108d</td>\n",
       "      <td>34700</td>\n",
       "      <td>7548</td>\n",
       "      <td>4.597244</td>\n",
       "    </tr>\n",
       "    <tr>\n",
       "      <th>2</th>\n",
       "      <td>den200d</td>\n",
       "      <td>5188024</td>\n",
       "      <td>1053524</td>\n",
       "      <td>4.924448</td>\n",
       "    </tr>\n",
       "    <tr>\n",
       "      <th>3</th>\n",
       "      <td>lak105d</td>\n",
       "      <td>43032</td>\n",
       "      <td>19160</td>\n",
       "      <td>2.245929</td>\n",
       "    </tr>\n",
       "    <tr>\n",
       "      <th>4</th>\n",
       "      <td>orz107d</td>\n",
       "      <td>85164</td>\n",
       "      <td>16704</td>\n",
       "      <td>5.098420</td>\n",
       "    </tr>\n",
       "  </tbody>\n",
       "</table>\n",
       "</div>"
      ],
      "text/plain": [
       "       map  bytes-0  bytes-1     ratio\n",
       "0  den504d  4360940   906196  4.812358\n",
       "1  lak108d    34700     7548  4.597244\n",
       "2  den200d  5188024  1053524  4.924448\n",
       "3  lak105d    43032    19160  2.245929\n",
       "4  orz107d    85164    16704  5.098420"
      ]
     },
     "execution_count": 93,
     "metadata": {},
     "output_type": "execute_result"
    }
   ],
   "source": [
    "df.head()"
   ]
  },
  {
   "cell_type": "code",
   "execution_count": 106,
   "metadata": {
    "collapsed": false,
    "scrolled": true
   },
   "outputs": [
    {
     "data": {
      "text/html": [
       "<div>\n",
       "<style scoped>\n",
       "    .dataframe tbody tr th:only-of-type {\n",
       "        vertical-align: middle;\n",
       "    }\n",
       "\n",
       "    .dataframe tbody tr th {\n",
       "        vertical-align: top;\n",
       "    }\n",
       "\n",
       "    .dataframe thead th {\n",
       "        text-align: right;\n",
       "    }\n",
       "</style>\n",
       "<table border=\"1\" class=\"dataframe\">\n",
       "  <thead>\n",
       "    <tr style=\"text-align: right;\">\n",
       "      <th></th>\n",
       "      <th>count</th>\n",
       "      <th>mean</th>\n",
       "      <th>std</th>\n",
       "      <th>min</th>\n",
       "      <th>25%</th>\n",
       "      <th>50%</th>\n",
       "      <th>75%</th>\n",
       "      <th>max</th>\n",
       "    </tr>\n",
       "  </thead>\n",
       "  <tbody>\n",
       "    <tr>\n",
       "      <th>ratio</th>\n",
       "      <td>156.0</td>\n",
       "      <td>4.848261</td>\n",
       "      <td>2.786469</td>\n",
       "      <td>2.191994</td>\n",
       "      <td>3.476017</td>\n",
       "      <td>4.15138</td>\n",
       "      <td>5.269512</td>\n",
       "      <td>24.995184</td>\n",
       "    </tr>\n",
       "  </tbody>\n",
       "</table>\n",
       "</div>"
      ],
      "text/plain": [
       "       count      mean       std       min       25%      50%       75%  \\\n",
       "ratio  156.0  4.848261  2.786469  2.191994  3.476017  4.15138  5.269512   \n",
       "\n",
       "             max  \n",
       "ratio  24.995184  "
      ]
     },
     "execution_count": 106,
     "metadata": {},
     "output_type": "execute_result"
    }
   ],
   "source": [
    "pd.DataFrame(df.ratio.describe()).T"
   ]
  },
  {
   "cell_type": "code",
   "execution_count": 102,
   "metadata": {
    "collapsed": false,
    "scrolled": true
   },
   "outputs": [
    {
     "name": "stdout",
     "output_type": "stream",
     "text": [
      "\\begin{tabular}{lrrrrrrrr}\n",
      "\\toprule\n",
      "{} &  count &      mean &       std &       min &       25\\% &      50\\% &       75\\% &        max \\\\\n",
      "\\midrule\n",
      "ratio &  156.0 &  4.848261 &  2.786469 &  2.191994 &  3.476017 &  4.15138 &  5.269512 &  24.995184 \\\\\n",
      "\\bottomrule\n",
      "\\end{tabular}\n",
      "\n"
     ]
    }
   ],
   "source": [
    "print ((pd.DataFrame(df.ratio.describe()).T).to_latex())"
   ]
  },
  {
   "cell_type": "code",
   "execution_count": 75,
   "metadata": {
    "collapsed": false,
    "scrolled": true
   },
   "outputs": [],
   "source": [
    "df_size = pd.read_csv(open('size_part.txt'))"
   ]
  },
  {
   "cell_type": "code",
   "execution_count": 76,
   "metadata": {
    "collapsed": false,
    "scrolled": true
   },
   "outputs": [
    {
     "name": "stderr",
     "output_type": "stream",
     "text": [
      "/Users/eggeek/anaconda2/envs/py3/lib/python3.5/site-packages/pandas/core/frame.py:3781: SettingWithCopyWarning: \n",
      "A value is trying to be set on a copy of a slice from a DataFrame\n",
      "\n",
      "See the caveats in the documentation: http://pandas.pydata.org/pandas-docs/stable/indexing.html#indexing-view-versus-copy\n",
      "  return super(DataFrame, self).rename(**kwargs)\n",
      "/Users/eggeek/anaconda2/envs/py3/lib/python3.5/site-packages/pandas/core/frame.py:3697: SettingWithCopyWarning: \n",
      "A value is trying to be set on a copy of a slice from a DataFrame\n",
      "\n",
      "See the caveats in the documentation: http://pandas.pydata.org/pandas-docs/stable/indexing.html#indexing-view-versus-copy\n",
      "  errors=errors)\n"
     ]
    }
   ],
   "source": [
    "df0 = df_size[df_size.hLevel == 0]\n",
    "df1 = df_size[df_size.hLevel == 1]\n",
    "df2 = df_size[df_size.hLevel == 2]\n",
    "df3 = df_size[df_size.hLevel == 3]\n",
    "\n",
    "df0.rename(columns={'bytes': 'bytes-0'}, inplace=True)\n",
    "df0.drop(columns=['hLevel'], inplace=True)\n",
    "\n",
    "df1.rename(columns={'bytes': 'bytes-1'}, inplace=True)\n",
    "df1.drop(columns=['hLevel'], inplace=True)\n",
    "\n",
    "df2.rename(columns={'bytes': 'bytes-2'}, inplace=True)\n",
    "df2.drop(columns=['hLevel'], inplace=True)\n",
    "\n",
    "df3.rename(columns={'bytes': 'bytes-3'}, inplace=True)\n",
    "df3.drop(columns=['hLevel'], inplace=True)\n",
    "\n",
    "df = pd.merge(df0, df1, on='map')\n",
    "df = pd.merge(df, df2, on='map')\n",
    "df = pd.merge(df, df3, on='map')"
   ]
  },
  {
   "cell_type": "code",
   "execution_count": 78,
   "metadata": {
    "collapsed": false,
    "scrolled": false
   },
   "outputs": [
    {
     "name": "stdout",
     "output_type": "stream",
     "text": [
      "<table border=\"1\" class=\"dataframe\">\n",
      "  <thead>\n",
      "    <tr style=\"text-align: right;\">\n",
      "      <th></th>\n",
      "      <th>map</th>\n",
      "      <th>bytes-0</th>\n",
      "      <th>bytes-1</th>\n",
      "      <th>bytes-2</th>\n",
      "      <th>bytes-3</th>\n",
      "    </tr>\n",
      "  </thead>\n",
      "  <tbody>\n",
      "    <tr>\n",
      "      <th>0</th>\n",
      "      <td>brc000d</td>\n",
      "      <td>10352996</td>\n",
      "      <td>4307840</td>\n",
      "      <td>3359956</td>\n",
      "      <td>3412188</td>\n",
      "    </tr>\n",
      "    <tr>\n",
      "      <th>1</th>\n",
      "      <td>brc100d</td>\n",
      "      <td>7326560</td>\n",
      "      <td>2562468</td>\n",
      "      <td>2310620</td>\n",
      "      <td>2337436</td>\n",
      "    </tr>\n",
      "    <tr>\n",
      "      <th>2</th>\n",
      "      <td>den404d</td>\n",
      "      <td>26792</td>\n",
      "      <td>8876</td>\n",
      "      <td>8656</td>\n",
      "      <td>8768</td>\n",
      "    </tr>\n",
      "    <tr>\n",
      "      <th>3</th>\n",
      "      <td>brc202d</td>\n",
      "      <td>8021816</td>\n",
      "      <td>2455696</td>\n",
      "      <td>2231280</td>\n",
      "      <td>2263964</td>\n",
      "    </tr>\n",
      "    <tr>\n",
      "      <th>4</th>\n",
      "      <td>random512-10-0</td>\n",
      "      <td>313807080</td>\n",
      "      <td>279120280</td>\n",
      "      <td>217722432</td>\n",
      "      <td>218996188</td>\n",
      "    </tr>\n",
      "    <tr>\n",
      "      <th>5</th>\n",
      "      <td>den200n</td>\n",
      "      <td>3054072</td>\n",
      "      <td>823732</td>\n",
      "      <td>779924</td>\n",
      "      <td>793984</td>\n",
      "    </tr>\n",
      "    <tr>\n",
      "      <th>6</th>\n",
      "      <td>den202d</td>\n",
      "      <td>67204</td>\n",
      "      <td>17176</td>\n",
      "      <td>16060</td>\n",
      "      <td>16520</td>\n",
      "    </tr>\n",
      "    <tr>\n",
      "      <th>7</th>\n",
      "      <td>arena2</td>\n",
      "      <td>7168988</td>\n",
      "      <td>2501612</td>\n",
      "      <td>2466796</td>\n",
      "      <td>2503784</td>\n",
      "    </tr>\n",
      "    <tr>\n",
      "      <th>8</th>\n",
      "      <td>arena</td>\n",
      "      <td>483584</td>\n",
      "      <td>103380</td>\n",
      "      <td>70136</td>\n",
      "      <td>72680</td>\n",
      "    </tr>\n",
      "  </tbody>\n",
      "</table>\n"
     ]
    }
   ],
   "source": [
    "print(df.to_html())"
   ]
  },
  {
   "cell_type": "code",
   "execution_count": 67,
   "metadata": {
    "collapsed": false
   },
   "outputs": [
    {
     "data": {
      "text/html": [
       "<div>\n",
       "<style scoped>\n",
       "    .dataframe tbody tr th:only-of-type {\n",
       "        vertical-align: middle;\n",
       "    }\n",
       "\n",
       "    .dataframe tbody tr th {\n",
       "        vertical-align: top;\n",
       "    }\n",
       "\n",
       "    .dataframe thead th {\n",
       "        text-align: right;\n",
       "    }\n",
       "</style>\n",
       "<table border=\"1\" class=\"dataframe\">\n",
       "  <thead>\n",
       "    <tr style=\"text-align: right;\">\n",
       "      <th></th>\n",
       "      <th>map</th>\n",
       "      <th>bytes-0</th>\n",
       "      <th>bytes-1</th>\n",
       "      <th>bytes-2</th>\n",
       "    </tr>\n",
       "  </thead>\n",
       "  <tbody>\n",
       "    <tr>\n",
       "      <th>0</th>\n",
       "      <td>maze512-1-0</td>\n",
       "      <td>3096780</td>\n",
       "      <td>3090232</td>\n",
       "      <td>3084924</td>\n",
       "    </tr>\n",
       "    <tr>\n",
       "      <th>1</th>\n",
       "      <td>brc000d</td>\n",
       "      <td>10352996</td>\n",
       "      <td>4307840</td>\n",
       "      <td>3359956</td>\n",
       "    </tr>\n",
       "    <tr>\n",
       "      <th>2</th>\n",
       "      <td>brc100d</td>\n",
       "      <td>7326560</td>\n",
       "      <td>2562468</td>\n",
       "      <td>2310620</td>\n",
       "    </tr>\n",
       "    <tr>\n",
       "      <th>3</th>\n",
       "      <td>den404d</td>\n",
       "      <td>26792</td>\n",
       "      <td>8876</td>\n",
       "      <td>8656</td>\n",
       "    </tr>\n",
       "    <tr>\n",
       "      <th>4</th>\n",
       "      <td>brc202d</td>\n",
       "      <td>8021816</td>\n",
       "      <td>2455696</td>\n",
       "      <td>2231280</td>\n",
       "    </tr>\n",
       "    <tr>\n",
       "      <th>5</th>\n",
       "      <td>random512-10-0</td>\n",
       "      <td>313807080</td>\n",
       "      <td>279120280</td>\n",
       "      <td>217722432</td>\n",
       "    </tr>\n",
       "    <tr>\n",
       "      <th>6</th>\n",
       "      <td>den200n</td>\n",
       "      <td>3054072</td>\n",
       "      <td>823732</td>\n",
       "      <td>779924</td>\n",
       "    </tr>\n",
       "    <tr>\n",
       "      <th>7</th>\n",
       "      <td>16room_000</td>\n",
       "      <td>176481032</td>\n",
       "      <td>158217928</td>\n",
       "      <td>157823592</td>\n",
       "    </tr>\n",
       "    <tr>\n",
       "      <th>8</th>\n",
       "      <td>den202d</td>\n",
       "      <td>67204</td>\n",
       "      <td>17176</td>\n",
       "      <td>16060</td>\n",
       "    </tr>\n",
       "    <tr>\n",
       "      <th>9</th>\n",
       "      <td>arena2</td>\n",
       "      <td>7168988</td>\n",
       "      <td>2501612</td>\n",
       "      <td>2466796</td>\n",
       "    </tr>\n",
       "  </tbody>\n",
       "</table>\n",
       "</div>"
      ],
      "text/plain": [
       "              map    bytes-0    bytes-1    bytes-2\n",
       "0     maze512-1-0    3096780    3090232    3084924\n",
       "1         brc000d   10352996    4307840    3359956\n",
       "2         brc100d    7326560    2562468    2310620\n",
       "3         den404d      26792       8876       8656\n",
       "4         brc202d    8021816    2455696    2231280\n",
       "5  random512-10-0  313807080  279120280  217722432\n",
       "6         den200n    3054072     823732     779924\n",
       "7      16room_000  176481032  158217928  157823592\n",
       "8         den202d      67204      17176      16060\n",
       "9          arena2    7168988    2501612    2466796"
      ]
     },
     "execution_count": 67,
     "metadata": {},
     "output_type": "execute_result"
    }
   ],
   "source": [
    "df"
   ]
  },
  {
   "cell_type": "code",
   "execution_count": 66,
   "metadata": {
    "collapsed": false
   },
   "outputs": [
    {
     "name": "stderr",
     "output_type": "stream",
     "text": [
      "/Users/eggeek/anaconda2/envs/py3/lib/python3.5/site-packages/pandas/core/frame.py:3781: SettingWithCopyWarning: \n",
      "A value is trying to be set on a copy of a slice from a DataFrame\n",
      "\n",
      "See the caveats in the documentation: http://pandas.pydata.org/pandas-docs/stable/indexing.html#indexing-view-versus-copy\n",
      "  return super(DataFrame, self).rename(**kwargs)\n",
      "/Users/eggeek/anaconda2/envs/py3/lib/python3.5/site-packages/pandas/core/frame.py:3697: SettingWithCopyWarning: \n",
      "A value is trying to be set on a copy of a slice from a DataFrame\n",
      "\n",
      "See the caveats in the documentation: http://pandas.pydata.org/pandas-docs/stable/indexing.html#indexing-view-versus-copy\n",
      "  errors=errors)\n"
     ]
    }
   ],
   "source": [
    "df_size = pd.read_csv(open('size_part2.txt'))\n",
    "df0 = df_size[df_size.hLevel == 0]\n",
    "df1 = df_size[df_size.hLevel == 1]\n",
    "df2 = df_size[df_size.hLevel == 2]\n",
    "\n",
    "df0.rename(columns={'bytes': 'bytes-0'}, inplace=True)\n",
    "df0.drop(columns=['hLevel'], inplace=True)\n",
    "\n",
    "df1.rename(columns={'bytes': 'bytes-1'}, inplace=True)\n",
    "df1.drop(columns=['hLevel'], inplace=True)\n",
    "\n",
    "df2.rename(columns={'bytes': 'bytes-2'}, inplace=True)\n",
    "df2.drop(columns=['hLevel'], inplace=True)\n",
    "df = pd.merge(df0, df1, on='map')\n",
    "df = pd.merge(df, df2, on='map')"
   ]
  },
  {
   "cell_type": "code",
   "execution_count": 79,
   "metadata": {
    "collapsed": false,
    "scrolled": true
   },
   "outputs": [],
   "source": [
    "prefix = '../outputs/'\n",
    "h0 = [prefix + i for i in os.listdir(prefix) if i.endswith('0.txt')]\n",
    "h1 = [prefix + i for i in os.listdir(prefix) if i.endswith('1.txt')]\n",
    "h2 = [prefix + i for i in os.listdir(prefix) if i.endswith('2.txt')]\n",
    "h3 = [prefix + i for i in os.listdir(prefix) if i.endswith('3.txt')]"
   ]
  },
  {
   "cell_type": "code",
   "execution_count": 84,
   "metadata": {
    "collapsed": false,
    "scrolled": true
   },
   "outputs": [
    {
     "name": "stderr",
     "output_type": "stream",
     "text": [
      "/Users/eggeek/anaconda2/envs/py3/lib/python3.5/site-packages/ipykernel/__main__.py:1: FutureWarning: from_csv is deprecated. Please use read_csv(...) instead. Note that some of the default arguments are different, so please refer to the documentation for from_csv when changing your function calls\n",
      "  if __name__ == '__main__':\n",
      "/Users/eggeek/anaconda2/envs/py3/lib/python3.5/site-packages/ipykernel/__main__.py:2: FutureWarning: from_csv is deprecated. Please use read_csv(...) instead. Note that some of the default arguments are different, so please refer to the documentation for from_csv when changing your function calls\n",
      "  from ipykernel import kernelapp as app\n",
      "/Users/eggeek/anaconda2/envs/py3/lib/python3.5/site-packages/ipykernel/__main__.py:3: FutureWarning: from_csv is deprecated. Please use read_csv(...) instead. Note that some of the default arguments are different, so please refer to the documentation for from_csv when changing your function calls\n",
      "  app.launch_new_instance()\n",
      "/Users/eggeek/anaconda2/envs/py3/lib/python3.5/site-packages/ipykernel/__main__.py:4: FutureWarning: from_csv is deprecated. Please use read_csv(...) instead. Note that some of the default arguments are different, so please refer to the documentation for from_csv when changing your function calls\n"
     ]
    }
   ],
   "source": [
    "df0 = pd.concat([pd.DataFrame.from_csv(i, index_col=None) for i in h0])\n",
    "df1 = pd.concat([pd.DataFrame.from_csv(i, index_col=None) for i in h1])\n",
    "df2 = pd.concat([pd.DataFrame.from_csv(i, index_col=None) for i in h2])\n",
    "df3 = pd.concat([pd.DataFrame.from_csv(i, index_col=None) for i in h3])"
   ]
  },
  {
   "cell_type": "code",
   "execution_count": 85,
   "metadata": {
    "collapsed": false
   },
   "outputs": [
    {
     "data": {
      "text/html": [
       "<div>\n",
       "<style scoped>\n",
       "    .dataframe tbody tr th:only-of-type {\n",
       "        vertical-align: middle;\n",
       "    }\n",
       "\n",
       "    .dataframe tbody tr th {\n",
       "        vertical-align: top;\n",
       "    }\n",
       "\n",
       "    .dataframe thead th {\n",
       "        text-align: right;\n",
       "    }\n",
       "</style>\n",
       "<table border=\"1\" class=\"dataframe\">\n",
       "  <thead>\n",
       "    <tr style=\"text-align: right;\">\n",
       "      <th></th>\n",
       "      <th>map</th>\n",
       "      <th>scenid</th>\n",
       "      <th>total-src</th>\n",
       "      <th>20move-src</th>\n",
       "      <th>distance</th>\n",
       "      <th>path_size</th>\n",
       "      <th>hLevel</th>\n",
       "    </tr>\n",
       "  </thead>\n",
       "  <tbody>\n",
       "    <tr>\n",
       "      <th>0</th>\n",
       "      <td>brc202d</td>\n",
       "      <td>0</td>\n",
       "      <td>219</td>\n",
       "      <td>187</td>\n",
       "      <td>0</td>\n",
       "      <td>0</td>\n",
       "      <td>0</td>\n",
       "    </tr>\n",
       "    <tr>\n",
       "      <th>1</th>\n",
       "      <td>brc202d</td>\n",
       "      <td>1</td>\n",
       "      <td>264</td>\n",
       "      <td>197</td>\n",
       "      <td>0</td>\n",
       "      <td>0</td>\n",
       "      <td>0</td>\n",
       "    </tr>\n",
       "    <tr>\n",
       "      <th>2</th>\n",
       "      <td>brc202d</td>\n",
       "      <td>2</td>\n",
       "      <td>413</td>\n",
       "      <td>551</td>\n",
       "      <td>0</td>\n",
       "      <td>0</td>\n",
       "      <td>0</td>\n",
       "    </tr>\n",
       "    <tr>\n",
       "      <th>3</th>\n",
       "      <td>brc202d</td>\n",
       "      <td>3</td>\n",
       "      <td>206</td>\n",
       "      <td>211</td>\n",
       "      <td>0</td>\n",
       "      <td>0</td>\n",
       "      <td>0</td>\n",
       "    </tr>\n",
       "    <tr>\n",
       "      <th>4</th>\n",
       "      <td>brc202d</td>\n",
       "      <td>4</td>\n",
       "      <td>335</td>\n",
       "      <td>352</td>\n",
       "      <td>0</td>\n",
       "      <td>0</td>\n",
       "      <td>0</td>\n",
       "    </tr>\n",
       "  </tbody>\n",
       "</table>\n",
       "</div>"
      ],
      "text/plain": [
       "       map  scenid  total-src  20move-src  distance  path_size  hLevel\n",
       "0  brc202d       0        219         187         0          0       0\n",
       "1  brc202d       1        264         197         0          0       0\n",
       "2  brc202d       2        413         551         0          0       0\n",
       "3  brc202d       3        206         211         0          0       0\n",
       "4  brc202d       4        335         352         0          0       0"
      ]
     },
     "execution_count": 85,
     "metadata": {},
     "output_type": "execute_result"
    }
   ],
   "source": [
    "df0.head()"
   ]
  },
  {
   "cell_type": "code",
   "execution_count": 86,
   "metadata": {
    "collapsed": false,
    "scrolled": true
   },
   "outputs": [],
   "source": [
    "df0.drop(columns=['hLevel', 'distance','path_size'], inplace=True)\n",
    "df0.rename(columns={'total-src': 'total-src-0', '20move-src': '20move-src-0'}, inplace=True)\n",
    "\n",
    "df1.drop(columns=['hLevel', 'distance','path_size'], inplace=True)\n",
    "df1.rename(columns={'total-src': 'total-src-1', '20move-src': '20move-src-1'}, inplace=True)\n",
    "\n",
    "df2.drop(columns=['hLevel', 'distance','path_size'], inplace=True)\n",
    "df2.rename(columns={'total-src': 'total-src-2', '20move-src': '20move-src-2'}, inplace=True)\n",
    "\n",
    "df3.drop(columns=['hLevel', 'distance','path_size'], inplace=True)\n",
    "df3.rename(columns={'total-src': 'total-src-3', '20move-src': '20move-src-3'}, inplace=True)"
   ]
  },
  {
   "cell_type": "code",
   "execution_count": 87,
   "metadata": {
    "collapsed": false,
    "scrolled": true
   },
   "outputs": [],
   "source": [
    "df = pd.merge(df0, df1, on=['map', 'scenid'])\n",
    "df = pd.merge(df, df2, on=['map', 'scenid'])\n",
    "df = pd.merge(df, df3, on=['map', 'scenid'])"
   ]
  },
  {
   "cell_type": "code",
   "execution_count": 88,
   "metadata": {
    "collapsed": false,
    "scrolled": true
   },
   "outputs": [
    {
     "data": {
      "text/html": [
       "<div>\n",
       "<style scoped>\n",
       "    .dataframe tbody tr th:only-of-type {\n",
       "        vertical-align: middle;\n",
       "    }\n",
       "\n",
       "    .dataframe tbody tr th {\n",
       "        vertical-align: top;\n",
       "    }\n",
       "\n",
       "    .dataframe thead th {\n",
       "        text-align: right;\n",
       "    }\n",
       "</style>\n",
       "<table border=\"1\" class=\"dataframe\">\n",
       "  <thead>\n",
       "    <tr style=\"text-align: right;\">\n",
       "      <th></th>\n",
       "      <th>map</th>\n",
       "      <th>scenid</th>\n",
       "      <th>total-src-0</th>\n",
       "      <th>20move-src-0</th>\n",
       "      <th>total-src-1</th>\n",
       "      <th>20move-src-1</th>\n",
       "      <th>total-src-2</th>\n",
       "      <th>20move-src-2</th>\n",
       "      <th>total-src-3</th>\n",
       "      <th>20move-src-3</th>\n",
       "    </tr>\n",
       "  </thead>\n",
       "  <tbody>\n",
       "    <tr>\n",
       "      <th>0</th>\n",
       "      <td>brc202d</td>\n",
       "      <td>0</td>\n",
       "      <td>219</td>\n",
       "      <td>187</td>\n",
       "      <td>134</td>\n",
       "      <td>124</td>\n",
       "      <td>175</td>\n",
       "      <td>194</td>\n",
       "      <td>131</td>\n",
       "      <td>138</td>\n",
       "    </tr>\n",
       "    <tr>\n",
       "      <th>1</th>\n",
       "      <td>brc202d</td>\n",
       "      <td>1</td>\n",
       "      <td>264</td>\n",
       "      <td>197</td>\n",
       "      <td>162</td>\n",
       "      <td>159</td>\n",
       "      <td>247</td>\n",
       "      <td>255</td>\n",
       "      <td>170</td>\n",
       "      <td>159</td>\n",
       "    </tr>\n",
       "    <tr>\n",
       "      <th>2</th>\n",
       "      <td>brc202d</td>\n",
       "      <td>2</td>\n",
       "      <td>413</td>\n",
       "      <td>551</td>\n",
       "      <td>276</td>\n",
       "      <td>297</td>\n",
       "      <td>461</td>\n",
       "      <td>467</td>\n",
       "      <td>333</td>\n",
       "      <td>453</td>\n",
       "    </tr>\n",
       "    <tr>\n",
       "      <th>3</th>\n",
       "      <td>brc202d</td>\n",
       "      <td>3</td>\n",
       "      <td>206</td>\n",
       "      <td>211</td>\n",
       "      <td>161</td>\n",
       "      <td>149</td>\n",
       "      <td>257</td>\n",
       "      <td>255</td>\n",
       "      <td>215</td>\n",
       "      <td>211</td>\n",
       "    </tr>\n",
       "    <tr>\n",
       "      <th>4</th>\n",
       "      <td>brc202d</td>\n",
       "      <td>4</td>\n",
       "      <td>335</td>\n",
       "      <td>352</td>\n",
       "      <td>173</td>\n",
       "      <td>208</td>\n",
       "      <td>211</td>\n",
       "      <td>346</td>\n",
       "      <td>190</td>\n",
       "      <td>205</td>\n",
       "    </tr>\n",
       "  </tbody>\n",
       "</table>\n",
       "</div>"
      ],
      "text/plain": [
       "       map  scenid  total-src-0  20move-src-0  total-src-1  20move-src-1  \\\n",
       "0  brc202d       0          219           187          134           124   \n",
       "1  brc202d       1          264           197          162           159   \n",
       "2  brc202d       2          413           551          276           297   \n",
       "3  brc202d       3          206           211          161           149   \n",
       "4  brc202d       4          335           352          173           208   \n",
       "\n",
       "   total-src-2  20move-src-2  total-src-3  20move-src-3  \n",
       "0          175           194          131           138  \n",
       "1          247           255          170           159  \n",
       "2          461           467          333           453  \n",
       "3          257           255          215           211  \n",
       "4          211           346          190           205  "
      ]
     },
     "execution_count": 88,
     "metadata": {},
     "output_type": "execute_result"
    }
   ],
   "source": [
    "df.head()"
   ]
  },
  {
   "cell_type": "code",
   "execution_count": 91,
   "metadata": {
    "collapsed": false,
    "scrolled": true
   },
   "outputs": [],
   "source": [
    "df['ratio-total-01'] = df['total-src-0'] / df['total-src-1']\n",
    "df['ratio-20-01'] = df['20move-src-0'] / df['20move-src-1']"
   ]
  },
  {
   "cell_type": "code",
   "execution_count": 93,
   "metadata": {
    "collapsed": false,
    "scrolled": true
   },
   "outputs": [],
   "source": [
    "df['ratio-total-03'] = df['total-src-0'] / df['total-src-3']\n",
    "df['ratio-20-03'] = df['20move-src-0'] / df['20move-src-3']"
   ]
  },
  {
   "cell_type": "code",
   "execution_count": 94,
   "metadata": {
    "collapsed": false,
    "scrolled": true
   },
   "outputs": [
    {
     "data": {
      "text/html": [
       "<div>\n",
       "<style scoped>\n",
       "    .dataframe tbody tr th:only-of-type {\n",
       "        vertical-align: middle;\n",
       "    }\n",
       "\n",
       "    .dataframe tbody tr th {\n",
       "        vertical-align: top;\n",
       "    }\n",
       "\n",
       "    .dataframe thead th {\n",
       "        text-align: right;\n",
       "    }\n",
       "</style>\n",
       "<table border=\"1\" class=\"dataframe\">\n",
       "  <thead>\n",
       "    <tr style=\"text-align: right;\">\n",
       "      <th></th>\n",
       "      <th>count</th>\n",
       "      <th>mean</th>\n",
       "      <th>std</th>\n",
       "      <th>min</th>\n",
       "      <th>25%</th>\n",
       "      <th>50%</th>\n",
       "      <th>75%</th>\n",
       "      <th>max</th>\n",
       "    </tr>\n",
       "  </thead>\n",
       "  <tbody>\n",
       "    <tr>\n",
       "      <th>ratio-total-01</th>\n",
       "      <td>7751.0</td>\n",
       "      <td>1.237554</td>\n",
       "      <td>0.24878</td>\n",
       "      <td>0.643408</td>\n",
       "      <td>1.072976</td>\n",
       "      <td>1.243968</td>\n",
       "      <td>1.375649</td>\n",
       "      <td>3.996865</td>\n",
       "    </tr>\n",
       "  </tbody>\n",
       "</table>\n",
       "</div>"
      ],
      "text/plain": [
       "                 count      mean      std       min       25%       50%  \\\n",
       "ratio-total-01  7751.0  1.237554  0.24878  0.643408  1.072976  1.243968   \n",
       "\n",
       "                     75%       max  \n",
       "ratio-total-01  1.375649  3.996865  "
      ]
     },
     "execution_count": 94,
     "metadata": {},
     "output_type": "execute_result"
    }
   ],
   "source": [
    "pd.DataFrame(df['ratio-total-01']).describe().T"
   ]
  },
  {
   "cell_type": "code",
   "execution_count": 96,
   "metadata": {
    "collapsed": false,
    "scrolled": true
   },
   "outputs": [
    {
     "data": {
      "text/html": [
       "<div>\n",
       "<style scoped>\n",
       "    .dataframe tbody tr th:only-of-type {\n",
       "        vertical-align: middle;\n",
       "    }\n",
       "\n",
       "    .dataframe tbody tr th {\n",
       "        vertical-align: top;\n",
       "    }\n",
       "\n",
       "    .dataframe thead th {\n",
       "        text-align: right;\n",
       "    }\n",
       "</style>\n",
       "<table border=\"1\" class=\"dataframe\">\n",
       "  <thead>\n",
       "    <tr style=\"text-align: right;\">\n",
       "      <th></th>\n",
       "      <th>count</th>\n",
       "      <th>mean</th>\n",
       "      <th>std</th>\n",
       "      <th>min</th>\n",
       "      <th>25%</th>\n",
       "      <th>50%</th>\n",
       "      <th>75%</th>\n",
       "      <th>max</th>\n",
       "    </tr>\n",
       "  </thead>\n",
       "  <tbody>\n",
       "    <tr>\n",
       "      <th>ratio-total-03</th>\n",
       "      <td>7751.0</td>\n",
       "      <td>1.187882</td>\n",
       "      <td>0.195675</td>\n",
       "      <td>0.664923</td>\n",
       "      <td>1.052247</td>\n",
       "      <td>1.181708</td>\n",
       "      <td>1.296751</td>\n",
       "      <td>2.975228</td>\n",
       "    </tr>\n",
       "  </tbody>\n",
       "</table>\n",
       "</div>"
      ],
      "text/plain": [
       "                 count      mean       std       min       25%       50%  \\\n",
       "ratio-total-03  7751.0  1.187882  0.195675  0.664923  1.052247  1.181708   \n",
       "\n",
       "                     75%       max  \n",
       "ratio-total-03  1.296751  2.975228  "
      ]
     },
     "execution_count": 96,
     "metadata": {},
     "output_type": "execute_result"
    }
   ],
   "source": [
    "pd.DataFrame(df['ratio-total-03'].describe()).T"
   ]
  },
  {
   "cell_type": "code",
   "execution_count": 58,
   "metadata": {
    "collapsed": false,
    "scrolled": true
   },
   "outputs": [
    {
     "data": {
      "text/html": [
       "<div>\n",
       "<style scoped>\n",
       "    .dataframe tbody tr th:only-of-type {\n",
       "        vertical-align: middle;\n",
       "    }\n",
       "\n",
       "    .dataframe tbody tr th {\n",
       "        vertical-align: top;\n",
       "    }\n",
       "\n",
       "    .dataframe thead th {\n",
       "        text-align: right;\n",
       "    }\n",
       "</style>\n",
       "<table border=\"1\" class=\"dataframe\">\n",
       "  <thead>\n",
       "    <tr style=\"text-align: right;\">\n",
       "      <th></th>\n",
       "      <th>count</th>\n",
       "      <th>mean</th>\n",
       "      <th>std</th>\n",
       "      <th>min</th>\n",
       "      <th>25%</th>\n",
       "      <th>50%</th>\n",
       "      <th>75%</th>\n",
       "      <th>max</th>\n",
       "    </tr>\n",
       "  </thead>\n",
       "  <tbody>\n",
       "    <tr>\n",
       "      <th>ratio-20-01</th>\n",
       "      <td>5971.0</td>\n",
       "      <td>1.308542</td>\n",
       "      <td>0.347481</td>\n",
       "      <td>0.577568</td>\n",
       "      <td>1.089999</td>\n",
       "      <td>1.204748</td>\n",
       "      <td>1.431095</td>\n",
       "      <td>3.661631</td>\n",
       "    </tr>\n",
       "  </tbody>\n",
       "</table>\n",
       "</div>"
      ],
      "text/plain": [
       "              count      mean       std       min       25%       50%  \\\n",
       "ratio-20-01  5971.0  1.308542  0.347481  0.577568  1.089999  1.204748   \n",
       "\n",
       "                  75%       max  \n",
       "ratio-20-01  1.431095  3.661631  "
      ]
     },
     "execution_count": 58,
     "metadata": {},
     "output_type": "execute_result"
    }
   ],
   "source": [
    "pd.DataFrame(df['ratio-20-01'].describe()).T"
   ]
  },
  {
   "cell_type": "code",
   "execution_count": 97,
   "metadata": {
    "collapsed": false,
    "scrolled": true
   },
   "outputs": [
    {
     "data": {
      "text/html": [
       "<div>\n",
       "<style scoped>\n",
       "    .dataframe tbody tr th:only-of-type {\n",
       "        vertical-align: middle;\n",
       "    }\n",
       "\n",
       "    .dataframe tbody tr th {\n",
       "        vertical-align: top;\n",
       "    }\n",
       "\n",
       "    .dataframe thead th {\n",
       "        text-align: right;\n",
       "    }\n",
       "</style>\n",
       "<table border=\"1\" class=\"dataframe\">\n",
       "  <thead>\n",
       "    <tr style=\"text-align: right;\">\n",
       "      <th></th>\n",
       "      <th>count</th>\n",
       "      <th>mean</th>\n",
       "      <th>std</th>\n",
       "      <th>min</th>\n",
       "      <th>25%</th>\n",
       "      <th>50%</th>\n",
       "      <th>75%</th>\n",
       "      <th>max</th>\n",
       "    </tr>\n",
       "  </thead>\n",
       "  <tbody>\n",
       "    <tr>\n",
       "      <th>ratio-20-03</th>\n",
       "      <td>7751.0</td>\n",
       "      <td>1.281678</td>\n",
       "      <td>0.409764</td>\n",
       "      <td>0.532619</td>\n",
       "      <td>1.025639</td>\n",
       "      <td>1.175926</td>\n",
       "      <td>1.424318</td>\n",
       "      <td>4.628571</td>\n",
       "    </tr>\n",
       "  </tbody>\n",
       "</table>\n",
       "</div>"
      ],
      "text/plain": [
       "              count      mean       std       min       25%       50%  \\\n",
       "ratio-20-03  7751.0  1.281678  0.409764  0.532619  1.025639  1.175926   \n",
       "\n",
       "                  75%       max  \n",
       "ratio-20-03  1.424318  4.628571  "
      ]
     },
     "execution_count": 97,
     "metadata": {},
     "output_type": "execute_result"
    }
   ],
   "source": [
    "pd.DataFrame(df['ratio-20-03'].describe()).T"
   ]
  }
 ],
 "metadata": {
  "celltoolbar": "Raw Cell Format",
  "kernelspec": {
   "display_name": "Python 3",
   "language": "python",
   "name": "python3"
  },
  "language_info": {
   "codemirror_mode": {
    "name": "ipython",
    "version": 3
   },
   "file_extension": ".py",
   "mimetype": "text/x-python",
   "name": "python",
   "nbconvert_exporter": "python",
   "pygments_lexer": "ipython3",
   "version": "3.5.3"
  }
 },
 "nbformat": 4,
 "nbformat_minor": 2
}
