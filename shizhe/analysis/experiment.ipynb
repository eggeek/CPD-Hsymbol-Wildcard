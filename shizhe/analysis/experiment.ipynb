{
 "cells": [
  {
   "cell_type": "code",
   "execution_count": 2,
   "metadata": {
    "collapsed": false
   },
   "outputs": [
    {
     "name": "stderr",
     "output_type": "stream",
     "text": [
      "/Users/eggeek/anaconda2/envs/py3/lib/python3.5/importlib/_bootstrap.py:222: RuntimeWarning: numpy.dtype size changed, may indicate binary incompatibility. Expected 96, got 88\n",
      "  return f(*args, **kwds)\n"
     ]
    }
   ],
   "source": [
    "import pandas as pd\n",
    "import os\n",
    "%matplotlib inline"
   ]
  },
  {
   "cell_type": "code",
   "execution_count": 17,
   "metadata": {
    "collapsed": false
   },
   "outputs": [],
   "source": [
    "df_size = pd.read_csv(open('size.txt'))"
   ]
  },
  {
   "cell_type": "code",
   "execution_count": 89,
   "metadata": {
    "collapsed": false
   },
   "outputs": [
    {
     "name": "stderr",
     "output_type": "stream",
     "text": [
      "/Users/eggeek/anaconda2/envs/py3/lib/python3.5/site-packages/pandas/core/frame.py:3781: SettingWithCopyWarning: \n",
      "A value is trying to be set on a copy of a slice from a DataFrame\n",
      "\n",
      "See the caveats in the documentation: http://pandas.pydata.org/pandas-docs/stable/indexing.html#indexing-view-versus-copy\n",
      "  return super(DataFrame, self).rename(**kwargs)\n",
      "/Users/eggeek/anaconda2/envs/py3/lib/python3.5/site-packages/pandas/core/frame.py:3697: SettingWithCopyWarning: \n",
      "A value is trying to be set on a copy of a slice from a DataFrame\n",
      "\n",
      "See the caveats in the documentation: http://pandas.pydata.org/pandas-docs/stable/indexing.html#indexing-view-versus-copy\n",
      "  errors=errors)\n"
     ]
    }
   ],
   "source": [
    "df0 = df_size[df_size.hLevel == 0]\n",
    "df1 = df_size[df_size.hLevel == 1]\n",
    "\n",
    "df0.rename(columns={'bytes': 'bytes-0'}, inplace=True)\n",
    "df0.drop(columns=['hLevel'], inplace=True)\n",
    "\n",
    "df1.rename(columns={'bytes': 'bytes-1'}, inplace=True)\n",
    "df1.drop(columns=['hLevel'], inplace=True)"
   ]
  },
  {
   "cell_type": "code",
   "execution_count": 90,
   "metadata": {
    "collapsed": false
   },
   "outputs": [],
   "source": [
    "df = pd.merge(df0, df1, on='map')"
   ]
  },
  {
   "cell_type": "code",
   "execution_count": 92,
   "metadata": {
    "collapsed": false
   },
   "outputs": [],
   "source": [
    "df['ratio'] = df['bytes-0'] / df['bytes-1']"
   ]
  },
  {
   "cell_type": "code",
   "execution_count": 93,
   "metadata": {
    "collapsed": false
   },
   "outputs": [
    {
     "data": {
      "text/html": [
       "<div>\n",
       "<style scoped>\n",
       "    .dataframe tbody tr th:only-of-type {\n",
       "        vertical-align: middle;\n",
       "    }\n",
       "\n",
       "    .dataframe tbody tr th {\n",
       "        vertical-align: top;\n",
       "    }\n",
       "\n",
       "    .dataframe thead th {\n",
       "        text-align: right;\n",
       "    }\n",
       "</style>\n",
       "<table border=\"1\" class=\"dataframe\">\n",
       "  <thead>\n",
       "    <tr style=\"text-align: right;\">\n",
       "      <th></th>\n",
       "      <th>map</th>\n",
       "      <th>bytes-0</th>\n",
       "      <th>bytes-1</th>\n",
       "      <th>ratio</th>\n",
       "    </tr>\n",
       "  </thead>\n",
       "  <tbody>\n",
       "    <tr>\n",
       "      <th>0</th>\n",
       "      <td>den504d</td>\n",
       "      <td>4360940</td>\n",
       "      <td>906196</td>\n",
       "      <td>4.812358</td>\n",
       "    </tr>\n",
       "    <tr>\n",
       "      <th>1</th>\n",
       "      <td>lak108d</td>\n",
       "      <td>34700</td>\n",
       "      <td>7548</td>\n",
       "      <td>4.597244</td>\n",
       "    </tr>\n",
       "    <tr>\n",
       "      <th>2</th>\n",
       "      <td>den200d</td>\n",
       "      <td>5188024</td>\n",
       "      <td>1053524</td>\n",
       "      <td>4.924448</td>\n",
       "    </tr>\n",
       "    <tr>\n",
       "      <th>3</th>\n",
       "      <td>lak105d</td>\n",
       "      <td>43032</td>\n",
       "      <td>19160</td>\n",
       "      <td>2.245929</td>\n",
       "    </tr>\n",
       "    <tr>\n",
       "      <th>4</th>\n",
       "      <td>orz107d</td>\n",
       "      <td>85164</td>\n",
       "      <td>16704</td>\n",
       "      <td>5.098420</td>\n",
       "    </tr>\n",
       "  </tbody>\n",
       "</table>\n",
       "</div>"
      ],
      "text/plain": [
       "       map  bytes-0  bytes-1     ratio\n",
       "0  den504d  4360940   906196  4.812358\n",
       "1  lak108d    34700     7548  4.597244\n",
       "2  den200d  5188024  1053524  4.924448\n",
       "3  lak105d    43032    19160  2.245929\n",
       "4  orz107d    85164    16704  5.098420"
      ]
     },
     "execution_count": 93,
     "metadata": {},
     "output_type": "execute_result"
    }
   ],
   "source": [
    "df.head()"
   ]
  },
  {
   "cell_type": "code",
   "execution_count": 106,
   "metadata": {
    "collapsed": false
   },
   "outputs": [
    {
     "data": {
      "text/html": [
       "<div>\n",
       "<style scoped>\n",
       "    .dataframe tbody tr th:only-of-type {\n",
       "        vertical-align: middle;\n",
       "    }\n",
       "\n",
       "    .dataframe tbody tr th {\n",
       "        vertical-align: top;\n",
       "    }\n",
       "\n",
       "    .dataframe thead th {\n",
       "        text-align: right;\n",
       "    }\n",
       "</style>\n",
       "<table border=\"1\" class=\"dataframe\">\n",
       "  <thead>\n",
       "    <tr style=\"text-align: right;\">\n",
       "      <th></th>\n",
       "      <th>count</th>\n",
       "      <th>mean</th>\n",
       "      <th>std</th>\n",
       "      <th>min</th>\n",
       "      <th>25%</th>\n",
       "      <th>50%</th>\n",
       "      <th>75%</th>\n",
       "      <th>max</th>\n",
       "    </tr>\n",
       "  </thead>\n",
       "  <tbody>\n",
       "    <tr>\n",
       "      <th>ratio</th>\n",
       "      <td>156.0</td>\n",
       "      <td>4.848261</td>\n",
       "      <td>2.786469</td>\n",
       "      <td>2.191994</td>\n",
       "      <td>3.476017</td>\n",
       "      <td>4.15138</td>\n",
       "      <td>5.269512</td>\n",
       "      <td>24.995184</td>\n",
       "    </tr>\n",
       "  </tbody>\n",
       "</table>\n",
       "</div>"
      ],
      "text/plain": [
       "       count      mean       std       min       25%      50%       75%  \\\n",
       "ratio  156.0  4.848261  2.786469  2.191994  3.476017  4.15138  5.269512   \n",
       "\n",
       "             max  \n",
       "ratio  24.995184  "
      ]
     },
     "execution_count": 106,
     "metadata": {},
     "output_type": "execute_result"
    }
   ],
   "source": [
    "pd.DataFrame(df.ratio.describe()).T"
   ]
  },
  {
   "cell_type": "code",
   "execution_count": 102,
   "metadata": {
    "collapsed": false
   },
   "outputs": [
    {
     "name": "stdout",
     "output_type": "stream",
     "text": [
      "\\begin{tabular}{lrrrrrrrr}\n",
      "\\toprule\n",
      "{} &  count &      mean &       std &       min &       25\\% &      50\\% &       75\\% &        max \\\\\n",
      "\\midrule\n",
      "ratio &  156.0 &  4.848261 &  2.786469 &  2.191994 &  3.476017 &  4.15138 &  5.269512 &  24.995184 \\\\\n",
      "\\bottomrule\n",
      "\\end{tabular}\n",
      "\n"
     ]
    }
   ],
   "source": [
    "print ((pd.DataFrame(df.ratio.describe()).T).to_latex())"
   ]
  },
  {
   "cell_type": "code",
   "execution_count": 18,
   "metadata": {
    "collapsed": false
   },
   "outputs": [],
   "source": [
    "df_size = pd.read_csv(open('size_part.txt'))"
   ]
  },
  {
   "cell_type": "code",
   "execution_count": 19,
   "metadata": {
    "collapsed": false
   },
   "outputs": [
    {
     "name": "stderr",
     "output_type": "stream",
     "text": [
      "/Users/eggeek/anaconda2/envs/py3/lib/python3.5/site-packages/pandas/core/frame.py:3781: SettingWithCopyWarning: \n",
      "A value is trying to be set on a copy of a slice from a DataFrame\n",
      "\n",
      "See the caveats in the documentation: http://pandas.pydata.org/pandas-docs/stable/indexing.html#indexing-view-versus-copy\n",
      "  return super(DataFrame, self).rename(**kwargs)\n",
      "/Users/eggeek/anaconda2/envs/py3/lib/python3.5/site-packages/pandas/core/frame.py:3697: SettingWithCopyWarning: \n",
      "A value is trying to be set on a copy of a slice from a DataFrame\n",
      "\n",
      "See the caveats in the documentation: http://pandas.pydata.org/pandas-docs/stable/indexing.html#indexing-view-versus-copy\n",
      "  errors=errors)\n"
     ]
    }
   ],
   "source": [
    "df0 = df_size[df_size.hLevel == 0]\n",
    "df1 = df_size[df_size.hLevel == 1]\n",
    "df2 = df_size[df_size.hLevel == 2]\n",
    "\n",
    "df0.rename(columns={'bytes': 'bytes-0'}, inplace=True)\n",
    "df0.drop(columns=['hLevel'], inplace=True)\n",
    "\n",
    "df1.rename(columns={'bytes': 'bytes-1'}, inplace=True)\n",
    "df1.drop(columns=['hLevel'], inplace=True)\n",
    "\n",
    "df2.rename(columns={'bytes': 'bytes-2'}, inplace=True)\n",
    "df2.drop(columns=['hLevel'], inplace=True)\n",
    "df = pd.merge(df0, df1, on='map')\n",
    "df = pd.merge(df, df2, on='map')"
   ]
  },
  {
   "cell_type": "code",
   "execution_count": 20,
   "metadata": {
    "collapsed": false,
    "scrolled": true
   },
   "outputs": [
    {
     "data": {
      "text/html": [
       "<div>\n",
       "<style scoped>\n",
       "    .dataframe tbody tr th:only-of-type {\n",
       "        vertical-align: middle;\n",
       "    }\n",
       "\n",
       "    .dataframe tbody tr th {\n",
       "        vertical-align: top;\n",
       "    }\n",
       "\n",
       "    .dataframe thead th {\n",
       "        text-align: right;\n",
       "    }\n",
       "</style>\n",
       "<table border=\"1\" class=\"dataframe\">\n",
       "  <thead>\n",
       "    <tr style=\"text-align: right;\">\n",
       "      <th></th>\n",
       "      <th>map</th>\n",
       "      <th>bytes-0</th>\n",
       "      <th>bytes-1</th>\n",
       "      <th>bytes-2</th>\n",
       "    </tr>\n",
       "  </thead>\n",
       "  <tbody>\n",
       "    <tr>\n",
       "      <th>0</th>\n",
       "      <td>maze512-1-0</td>\n",
       "      <td>3096780</td>\n",
       "      <td>3090232</td>\n",
       "      <td>3084764</td>\n",
       "    </tr>\n",
       "    <tr>\n",
       "      <th>1</th>\n",
       "      <td>brc000d</td>\n",
       "      <td>10352996</td>\n",
       "      <td>4307840</td>\n",
       "      <td>4258844</td>\n",
       "    </tr>\n",
       "    <tr>\n",
       "      <th>2</th>\n",
       "      <td>brc100d</td>\n",
       "      <td>7326560</td>\n",
       "      <td>2562468</td>\n",
       "      <td>2537656</td>\n",
       "    </tr>\n",
       "    <tr>\n",
       "      <th>3</th>\n",
       "      <td>den404d</td>\n",
       "      <td>26792</td>\n",
       "      <td>8876</td>\n",
       "      <td>8740</td>\n",
       "    </tr>\n",
       "    <tr>\n",
       "      <th>4</th>\n",
       "      <td>brc202d</td>\n",
       "      <td>8021816</td>\n",
       "      <td>2455696</td>\n",
       "      <td>2418848</td>\n",
       "    </tr>\n",
       "    <tr>\n",
       "      <th>5</th>\n",
       "      <td>random512-10-0</td>\n",
       "      <td>313807080</td>\n",
       "      <td>279120280</td>\n",
       "      <td>263648768</td>\n",
       "    </tr>\n",
       "    <tr>\n",
       "      <th>6</th>\n",
       "      <td>den200n</td>\n",
       "      <td>3054072</td>\n",
       "      <td>823732</td>\n",
       "      <td>811620</td>\n",
       "    </tr>\n",
       "    <tr>\n",
       "      <th>7</th>\n",
       "      <td>16room_000</td>\n",
       "      <td>176481032</td>\n",
       "      <td>158217928</td>\n",
       "      <td>158168880</td>\n",
       "    </tr>\n",
       "    <tr>\n",
       "      <th>8</th>\n",
       "      <td>den202d</td>\n",
       "      <td>67204</td>\n",
       "      <td>17176</td>\n",
       "      <td>16704</td>\n",
       "    </tr>\n",
       "    <tr>\n",
       "      <th>9</th>\n",
       "      <td>arena2</td>\n",
       "      <td>7168988</td>\n",
       "      <td>2501612</td>\n",
       "      <td>2485208</td>\n",
       "    </tr>\n",
       "    <tr>\n",
       "      <th>10</th>\n",
       "      <td>arena</td>\n",
       "      <td>483584</td>\n",
       "      <td>103380</td>\n",
       "      <td>100284</td>\n",
       "    </tr>\n",
       "  </tbody>\n",
       "</table>\n",
       "</div>"
      ],
      "text/plain": [
       "               map    bytes-0    bytes-1    bytes-2\n",
       "0      maze512-1-0    3096780    3090232    3084764\n",
       "1          brc000d   10352996    4307840    4258844\n",
       "2          brc100d    7326560    2562468    2537656\n",
       "3          den404d      26792       8876       8740\n",
       "4          brc202d    8021816    2455696    2418848\n",
       "5   random512-10-0  313807080  279120280  263648768\n",
       "6          den200n    3054072     823732     811620\n",
       "7       16room_000  176481032  158217928  158168880\n",
       "8          den202d      67204      17176      16704\n",
       "9           arena2    7168988    2501612    2485208\n",
       "10           arena     483584     103380     100284"
      ]
     },
     "execution_count": 20,
     "metadata": {},
     "output_type": "execute_result"
    }
   ],
   "source": [
    "df"
   ]
  },
  {
   "cell_type": "code",
   "execution_count": 6,
   "metadata": {
    "collapsed": false
   },
   "outputs": [],
   "source": [
    "prefix = '../outputs/'\n",
    "h0 = [prefix + i for i in os.listdir(prefix) if i.endswith('0.txt')]\n",
    "h1 = [prefix + i for i in os.listdir(prefix) if i.endswith('1.txt')]\n",
    "h2 = [prefix + i for i in os.listdir(prefix) if i.endswith('2.txt')]"
   ]
  },
  {
   "cell_type": "code",
   "execution_count": 7,
   "metadata": {
    "collapsed": false
   },
   "outputs": [
    {
     "name": "stderr",
     "output_type": "stream",
     "text": [
      "/Users/eggeek/anaconda2/envs/py3/lib/python3.5/site-packages/ipykernel/__main__.py:1: FutureWarning: from_csv is deprecated. Please use read_csv(...) instead. Note that some of the default arguments are different, so please refer to the documentation for from_csv when changing your function calls\n",
      "  if __name__ == '__main__':\n",
      "/Users/eggeek/anaconda2/envs/py3/lib/python3.5/site-packages/ipykernel/__main__.py:2: FutureWarning: from_csv is deprecated. Please use read_csv(...) instead. Note that some of the default arguments are different, so please refer to the documentation for from_csv when changing your function calls\n",
      "  from ipykernel import kernelapp as app\n",
      "/Users/eggeek/anaconda2/envs/py3/lib/python3.5/site-packages/ipykernel/__main__.py:3: FutureWarning: from_csv is deprecated. Please use read_csv(...) instead. Note that some of the default arguments are different, so please refer to the documentation for from_csv when changing your function calls\n",
      "  app.launch_new_instance()\n"
     ]
    }
   ],
   "source": [
    "df0 = pd.concat([pd.DataFrame.from_csv(i, index_col=None) for i in h0])\n",
    "df1 = pd.concat([pd.DataFrame.from_csv(i, index_col=None) for i in h1])\n",
    "df2 = pd.concat([pd.DataFrame.from_csv(i, index_col=None) for i in h2])"
   ]
  },
  {
   "cell_type": "code",
   "execution_count": 8,
   "metadata": {
    "collapsed": false
   },
   "outputs": [
    {
     "data": {
      "text/html": [
       "<div>\n",
       "<style scoped>\n",
       "    .dataframe tbody tr th:only-of-type {\n",
       "        vertical-align: middle;\n",
       "    }\n",
       "\n",
       "    .dataframe tbody tr th {\n",
       "        vertical-align: top;\n",
       "    }\n",
       "\n",
       "    .dataframe thead th {\n",
       "        text-align: right;\n",
       "    }\n",
       "</style>\n",
       "<table border=\"1\" class=\"dataframe\">\n",
       "  <thead>\n",
       "    <tr style=\"text-align: right;\">\n",
       "      <th></th>\n",
       "      <th>map</th>\n",
       "      <th>scenid</th>\n",
       "      <th>total-src</th>\n",
       "      <th>20move-src</th>\n",
       "      <th>distance</th>\n",
       "      <th>path_size</th>\n",
       "      <th>hLevel</th>\n",
       "    </tr>\n",
       "  </thead>\n",
       "  <tbody>\n",
       "    <tr>\n",
       "      <th>0</th>\n",
       "      <td>brc202d</td>\n",
       "      <td>0</td>\n",
       "      <td>149</td>\n",
       "      <td>250</td>\n",
       "      <td>0</td>\n",
       "      <td>0</td>\n",
       "      <td>0</td>\n",
       "    </tr>\n",
       "    <tr>\n",
       "      <th>1</th>\n",
       "      <td>brc202d</td>\n",
       "      <td>1</td>\n",
       "      <td>230</td>\n",
       "      <td>188</td>\n",
       "      <td>0</td>\n",
       "      <td>0</td>\n",
       "      <td>0</td>\n",
       "    </tr>\n",
       "    <tr>\n",
       "      <th>2</th>\n",
       "      <td>brc202d</td>\n",
       "      <td>2</td>\n",
       "      <td>422</td>\n",
       "      <td>559</td>\n",
       "      <td>0</td>\n",
       "      <td>0</td>\n",
       "      <td>0</td>\n",
       "    </tr>\n",
       "    <tr>\n",
       "      <th>3</th>\n",
       "      <td>brc202d</td>\n",
       "      <td>3</td>\n",
       "      <td>190</td>\n",
       "      <td>253</td>\n",
       "      <td>0</td>\n",
       "      <td>0</td>\n",
       "      <td>0</td>\n",
       "    </tr>\n",
       "    <tr>\n",
       "      <th>4</th>\n",
       "      <td>brc202d</td>\n",
       "      <td>4</td>\n",
       "      <td>354</td>\n",
       "      <td>348</td>\n",
       "      <td>0</td>\n",
       "      <td>0</td>\n",
       "      <td>0</td>\n",
       "    </tr>\n",
       "  </tbody>\n",
       "</table>\n",
       "</div>"
      ],
      "text/plain": [
       "       map  scenid  total-src  20move-src  distance  path_size  hLevel\n",
       "0  brc202d       0        149         250         0          0       0\n",
       "1  brc202d       1        230         188         0          0       0\n",
       "2  brc202d       2        422         559         0          0       0\n",
       "3  brc202d       3        190         253         0          0       0\n",
       "4  brc202d       4        354         348         0          0       0"
      ]
     },
     "execution_count": 8,
     "metadata": {},
     "output_type": "execute_result"
    }
   ],
   "source": [
    "df0.head()"
   ]
  },
  {
   "cell_type": "code",
   "execution_count": 9,
   "metadata": {
    "collapsed": false
   },
   "outputs": [],
   "source": [
    "df0.drop(columns=['hLevel', 'distance','path_size'], inplace=True)\n",
    "df1.drop(columns=['hLevel', 'distance','path_size'], inplace=True)\n",
    "df2.drop(columns=['hLevel', 'distance','path_size'], inplace=True)"
   ]
  },
  {
   "cell_type": "code",
   "execution_count": 10,
   "metadata": {
    "collapsed": false
   },
   "outputs": [],
   "source": [
    "df01 = pd.merge(df0, df1, on=['map', 'scenid'])\n",
    "df01.rename(columns={'total-src_x': 'src-total-0', '20move-src_x': 'src-20moves-0',\n",
    "                   'total-src_y': 'src-total-1', '20move-src_y': 'src-20moves-1'}, inplace=True)\n",
    "df = pd.merge(df01, df2, on=['map', 'scenid'])\n",
    "df.rename(columns={'total-src': 'src-total-2', '20move-src': 'src-20move-2'}, inplace=True)"
   ]
  },
  {
   "cell_type": "code",
   "execution_count": 11,
   "metadata": {
    "collapsed": false
   },
   "outputs": [
    {
     "data": {
      "text/html": [
       "<div>\n",
       "<style scoped>\n",
       "    .dataframe tbody tr th:only-of-type {\n",
       "        vertical-align: middle;\n",
       "    }\n",
       "\n",
       "    .dataframe tbody tr th {\n",
       "        vertical-align: top;\n",
       "    }\n",
       "\n",
       "    .dataframe thead th {\n",
       "        text-align: right;\n",
       "    }\n",
       "</style>\n",
       "<table border=\"1\" class=\"dataframe\">\n",
       "  <thead>\n",
       "    <tr style=\"text-align: right;\">\n",
       "      <th></th>\n",
       "      <th>map</th>\n",
       "      <th>scenid</th>\n",
       "      <th>src-total-0</th>\n",
       "      <th>src-20moves-0</th>\n",
       "      <th>src-total-1</th>\n",
       "      <th>src-20moves-1</th>\n",
       "      <th>src-total-2</th>\n",
       "      <th>src-20move-2</th>\n",
       "    </tr>\n",
       "  </thead>\n",
       "  <tbody>\n",
       "    <tr>\n",
       "      <th>0</th>\n",
       "      <td>brc202d</td>\n",
       "      <td>0</td>\n",
       "      <td>149</td>\n",
       "      <td>250</td>\n",
       "      <td>131</td>\n",
       "      <td>130</td>\n",
       "      <td>144</td>\n",
       "      <td>150</td>\n",
       "    </tr>\n",
       "    <tr>\n",
       "      <th>1</th>\n",
       "      <td>brc202d</td>\n",
       "      <td>1</td>\n",
       "      <td>230</td>\n",
       "      <td>188</td>\n",
       "      <td>162</td>\n",
       "      <td>184</td>\n",
       "      <td>177</td>\n",
       "      <td>238</td>\n",
       "    </tr>\n",
       "    <tr>\n",
       "      <th>2</th>\n",
       "      <td>brc202d</td>\n",
       "      <td>2</td>\n",
       "      <td>422</td>\n",
       "      <td>559</td>\n",
       "      <td>301</td>\n",
       "      <td>369</td>\n",
       "      <td>315</td>\n",
       "      <td>352</td>\n",
       "    </tr>\n",
       "    <tr>\n",
       "      <th>3</th>\n",
       "      <td>brc202d</td>\n",
       "      <td>3</td>\n",
       "      <td>190</td>\n",
       "      <td>253</td>\n",
       "      <td>166</td>\n",
       "      <td>139</td>\n",
       "      <td>189</td>\n",
       "      <td>180</td>\n",
       "    </tr>\n",
       "    <tr>\n",
       "      <th>4</th>\n",
       "      <td>brc202d</td>\n",
       "      <td>4</td>\n",
       "      <td>354</td>\n",
       "      <td>348</td>\n",
       "      <td>169</td>\n",
       "      <td>163</td>\n",
       "      <td>179</td>\n",
       "      <td>252</td>\n",
       "    </tr>\n",
       "  </tbody>\n",
       "</table>\n",
       "</div>"
      ],
      "text/plain": [
       "       map  scenid  src-total-0  src-20moves-0  src-total-1  src-20moves-1  \\\n",
       "0  brc202d       0          149            250          131            130   \n",
       "1  brc202d       1          230            188          162            184   \n",
       "2  brc202d       2          422            559          301            369   \n",
       "3  brc202d       3          190            253          166            139   \n",
       "4  brc202d       4          354            348          169            163   \n",
       "\n",
       "   src-total-2  src-20move-2  \n",
       "0          144           150  \n",
       "1          177           238  \n",
       "2          315           352  \n",
       "3          189           180  \n",
       "4          179           252  "
      ]
     },
     "execution_count": 11,
     "metadata": {},
     "output_type": "execute_result"
    }
   ],
   "source": [
    "df.head()"
   ]
  },
  {
   "cell_type": "code",
   "execution_count": 12,
   "metadata": {
    "collapsed": false
   },
   "outputs": [],
   "source": [
    "df['ratio-total-01'] = df['src-total-0'] / df['src-total-1']\n",
    "df['ratio-20-01'] = df['src-20moves-0'] / df['src-20moves-1']"
   ]
  },
  {
   "cell_type": "code",
   "execution_count": 13,
   "metadata": {
    "collapsed": true
   },
   "outputs": [],
   "source": [
    "df['ratio-total-02'] = df['src-total-0'] / df['src-total-1']\n",
    "df['ratio-20-02'] = df['src-20moves-0'] / df['src-20move-2']"
   ]
  },
  {
   "cell_type": "code",
   "execution_count": 14,
   "metadata": {
    "collapsed": false
   },
   "outputs": [
    {
     "data": {
      "text/html": [
       "<div>\n",
       "<style scoped>\n",
       "    .dataframe tbody tr th:only-of-type {\n",
       "        vertical-align: middle;\n",
       "    }\n",
       "\n",
       "    .dataframe tbody tr th {\n",
       "        vertical-align: top;\n",
       "    }\n",
       "\n",
       "    .dataframe thead th {\n",
       "        text-align: right;\n",
       "    }\n",
       "</style>\n",
       "<table border=\"1\" class=\"dataframe\">\n",
       "  <thead>\n",
       "    <tr style=\"text-align: right;\">\n",
       "      <th></th>\n",
       "      <th>count</th>\n",
       "      <th>mean</th>\n",
       "      <th>std</th>\n",
       "      <th>min</th>\n",
       "      <th>25%</th>\n",
       "      <th>50%</th>\n",
       "      <th>75%</th>\n",
       "      <th>max</th>\n",
       "    </tr>\n",
       "  </thead>\n",
       "  <tbody>\n",
       "    <tr>\n",
       "      <th>ratio-total-01</th>\n",
       "      <td>21881.0</td>\n",
       "      <td>1.055802</td>\n",
       "      <td>0.176067</td>\n",
       "      <td>0.485294</td>\n",
       "      <td>0.959063</td>\n",
       "      <td>0.996095</td>\n",
       "      <td>1.107551</td>\n",
       "      <td>3.073469</td>\n",
       "    </tr>\n",
       "  </tbody>\n",
       "</table>\n",
       "</div>"
      ],
      "text/plain": [
       "                  count      mean       std       min       25%       50%  \\\n",
       "ratio-total-01  21881.0  1.055802  0.176067  0.485294  0.959063  0.996095   \n",
       "\n",
       "                     75%       max  \n",
       "ratio-total-01  1.107551  3.073469  "
      ]
     },
     "execution_count": 14,
     "metadata": {},
     "output_type": "execute_result"
    }
   ],
   "source": [
    "pd.DataFrame(df['ratio-total-01']).describe().T"
   ]
  },
  {
   "cell_type": "code",
   "execution_count": 15,
   "metadata": {
    "collapsed": false
   },
   "outputs": [
    {
     "data": {
      "text/html": [
       "<div>\n",
       "<style scoped>\n",
       "    .dataframe tbody tr th:only-of-type {\n",
       "        vertical-align: middle;\n",
       "    }\n",
       "\n",
       "    .dataframe tbody tr th {\n",
       "        vertical-align: top;\n",
       "    }\n",
       "\n",
       "    .dataframe thead th {\n",
       "        text-align: right;\n",
       "    }\n",
       "</style>\n",
       "<table border=\"1\" class=\"dataframe\">\n",
       "  <thead>\n",
       "    <tr style=\"text-align: right;\">\n",
       "      <th></th>\n",
       "      <th>count</th>\n",
       "      <th>mean</th>\n",
       "      <th>std</th>\n",
       "      <th>min</th>\n",
       "      <th>25%</th>\n",
       "      <th>50%</th>\n",
       "      <th>75%</th>\n",
       "      <th>max</th>\n",
       "    </tr>\n",
       "  </thead>\n",
       "  <tbody>\n",
       "    <tr>\n",
       "      <th>ratio-total-02</th>\n",
       "      <td>21881.0</td>\n",
       "      <td>1.055802</td>\n",
       "      <td>0.176067</td>\n",
       "      <td>0.485294</td>\n",
       "      <td>0.959063</td>\n",
       "      <td>0.996095</td>\n",
       "      <td>1.107551</td>\n",
       "      <td>3.073469</td>\n",
       "    </tr>\n",
       "  </tbody>\n",
       "</table>\n",
       "</div>"
      ],
      "text/plain": [
       "                  count      mean       std       min       25%       50%  \\\n",
       "ratio-total-02  21881.0  1.055802  0.176067  0.485294  0.959063  0.996095   \n",
       "\n",
       "                     75%       max  \n",
       "ratio-total-02  1.107551  3.073469  "
      ]
     },
     "execution_count": 15,
     "metadata": {},
     "output_type": "execute_result"
    }
   ],
   "source": [
    "pd.DataFrame(df['ratio-total-02'].describe()).T"
   ]
  },
  {
   "cell_type": "code",
   "execution_count": 16,
   "metadata": {
    "collapsed": false
   },
   "outputs": [
    {
     "data": {
      "text/html": [
       "<div>\n",
       "<style scoped>\n",
       "    .dataframe tbody tr th:only-of-type {\n",
       "        vertical-align: middle;\n",
       "    }\n",
       "\n",
       "    .dataframe tbody tr th {\n",
       "        vertical-align: top;\n",
       "    }\n",
       "\n",
       "    .dataframe thead th {\n",
       "        text-align: right;\n",
       "    }\n",
       "</style>\n",
       "<table border=\"1\" class=\"dataframe\">\n",
       "  <thead>\n",
       "    <tr style=\"text-align: right;\">\n",
       "      <th></th>\n",
       "      <th>count</th>\n",
       "      <th>mean</th>\n",
       "      <th>std</th>\n",
       "      <th>min</th>\n",
       "      <th>25%</th>\n",
       "      <th>50%</th>\n",
       "      <th>75%</th>\n",
       "      <th>max</th>\n",
       "    </tr>\n",
       "  </thead>\n",
       "  <tbody>\n",
       "    <tr>\n",
       "      <th>ratio-20-01</th>\n",
       "      <td>21881.0</td>\n",
       "      <td>1.091697</td>\n",
       "      <td>0.27993</td>\n",
       "      <td>0.435644</td>\n",
       "      <td>0.962667</td>\n",
       "      <td>1.017822</td>\n",
       "      <td>1.126386</td>\n",
       "      <td>4.196203</td>\n",
       "    </tr>\n",
       "  </tbody>\n",
       "</table>\n",
       "</div>"
      ],
      "text/plain": [
       "               count      mean      std       min       25%       50%  \\\n",
       "ratio-20-01  21881.0  1.091697  0.27993  0.435644  0.962667  1.017822   \n",
       "\n",
       "                  75%       max  \n",
       "ratio-20-01  1.126386  4.196203  "
      ]
     },
     "execution_count": 16,
     "metadata": {},
     "output_type": "execute_result"
    }
   ],
   "source": [
    "pd.DataFrame(df['ratio-20-01'].describe()).T"
   ]
  },
  {
   "cell_type": "code",
   "execution_count": 17,
   "metadata": {
    "collapsed": false
   },
   "outputs": [
    {
     "data": {
      "text/html": [
       "<div>\n",
       "<style scoped>\n",
       "    .dataframe tbody tr th:only-of-type {\n",
       "        vertical-align: middle;\n",
       "    }\n",
       "\n",
       "    .dataframe tbody tr th {\n",
       "        vertical-align: top;\n",
       "    }\n",
       "\n",
       "    .dataframe thead th {\n",
       "        text-align: right;\n",
       "    }\n",
       "</style>\n",
       "<table border=\"1\" class=\"dataframe\">\n",
       "  <thead>\n",
       "    <tr style=\"text-align: right;\">\n",
       "      <th></th>\n",
       "      <th>count</th>\n",
       "      <th>mean</th>\n",
       "      <th>std</th>\n",
       "      <th>min</th>\n",
       "      <th>25%</th>\n",
       "      <th>50%</th>\n",
       "      <th>75%</th>\n",
       "      <th>max</th>\n",
       "    </tr>\n",
       "  </thead>\n",
       "  <tbody>\n",
       "    <tr>\n",
       "      <th>ratio-20-02</th>\n",
       "      <td>21881.0</td>\n",
       "      <td>1.011291</td>\n",
       "      <td>0.301693</td>\n",
       "      <td>0.322084</td>\n",
       "      <td>0.855037</td>\n",
       "      <td>0.953125</td>\n",
       "      <td>1.08</td>\n",
       "      <td>3.782353</td>\n",
       "    </tr>\n",
       "  </tbody>\n",
       "</table>\n",
       "</div>"
      ],
      "text/plain": [
       "               count      mean       std       min       25%       50%   75%  \\\n",
       "ratio-20-02  21881.0  1.011291  0.301693  0.322084  0.855037  0.953125  1.08   \n",
       "\n",
       "                  max  \n",
       "ratio-20-02  3.782353  "
      ]
     },
     "execution_count": 17,
     "metadata": {},
     "output_type": "execute_result"
    }
   ],
   "source": [
    "pd.DataFrame(df['ratio-20-02'].describe()).T"
   ]
  }
 ],
 "metadata": {
  "kernelspec": {
   "display_name": "Python 3",
   "language": "python",
   "name": "python3"
  },
  "language_info": {
   "codemirror_mode": {
    "name": "ipython",
    "version": 3
   },
   "file_extension": ".py",
   "mimetype": "text/x-python",
   "name": "python",
   "nbconvert_exporter": "python",
   "pygments_lexer": "ipython3",
   "version": "3.5.3"
  }
 },
 "nbformat": 4,
 "nbformat_minor": 2
}
